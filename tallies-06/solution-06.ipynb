{
 "cells": [
  {
   "cell_type": "markdown",
   "id": "f19a3dc7-f423-4e8c-9673-b79a2de4ca37",
   "metadata": {},
   "source": [
    "# Advanced Tallies in OpenMC\n",
    "\n",
    "In this tutorial, we'll learn about more advanced tally options."
   ]
  },
  {
   "cell_type": "code",
   "execution_count": null,
   "id": "5b9969e1-ebbc-4d29-bd26-96ead5926fe0",
   "metadata": {
    "tags": []
   },
   "outputs": [],
   "source": [
    "import openmc"
   ]
  },
  {
   "cell_type": "markdown",
   "id": "4f72ba30-11cc-4842-a83b-58eb717dfdc9",
   "metadata": {},
   "source": [
    "A model that warrants advanced tallies is necessarily more complex than a pincell, so we're going to use the built-in PWR assembly model in OpenMC."
   ]
  },
  {
   "cell_type": "code",
   "execution_count": null,
   "id": "dd77bd70-85f5-4e14-b6dd-00548acc759a",
   "metadata": {
    "tags": []
   },
   "outputs": [],
   "source": [
    "model = openmc.examples.pwr_assembly()"
   ]
  },
  {
   "cell_type": "code",
   "execution_count": null,
   "id": "b83f7c54-9d43-4a0f-b4a1-3437a6e1fb2f",
   "metadata": {
    "tags": []
   },
   "outputs": [],
   "source": [
    "model.geometry.root_universe.plot(width=(22, 22), pixels=(600, 600))"
   ]
  },
  {
   "cell_type": "code",
   "execution_count": null,
   "id": "aecd2662-cab9-4f4c-b93b-b929e93d2a44",
   "metadata": {
    "tags": []
   },
   "outputs": [],
   "source": [
    "model.materials"
   ]
  },
  {
   "cell_type": "markdown",
   "id": "2c9f8817-40c1-46b6-b6f4-f9b303b01bb4",
   "metadata": {},
   "source": [
    "In order to make some of the plots we'll generate in this session more intuitive, we'll remove the reflecting boundary condition for the upper `YPlane` and right `XPlane` in order to introduce some asymmetry."
   ]
  },
  {
   "cell_type": "code",
   "execution_count": null,
   "id": "65e0c9ef-c69c-4797-a896-db8c40772b81",
   "metadata": {
    "tags": []
   },
   "outputs": [],
   "source": [
    "assembly_surfaces = model.geometry.get_all_surfaces()\n",
    "\n",
    "for surf_id, surface in assembly_surfaces.items():\n",
    "    if isinstance(surface, openmc.YPlane) and surface.y0 > 0.0:\n",
    "        surface.boundary_type = 'vacuum'\n",
    "    if isinstance(surface, openmc.XPlane) and surface.x0 > 0.0:\n",
    "        surface.boundary_type = 'vacuum'"
   ]
  },
  {
   "cell_type": "markdown",
   "id": "3e2ef5a5-3e98-4324-8fb0-99e74070e614",
   "metadata": {},
   "source": [
    "# Mesh Tallies"
   ]
  },
  {
   "cell_type": "markdown",
   "id": "bb3a2175-3fee-4351-805a-ceafa1f59636",
   "metadata": {},
   "source": [
    "OpenMC can tally results onto regular, rectilinear, cylindrical, spherical, and unstructured meshes. Here we'll look at how to setup a regular mesh tally and visualize it for this assembly model. To do so, we need to create a mesh filter."
   ]
  },
  {
   "cell_type": "code",
   "execution_count": null,
   "id": "1bb8e94a-848e-480f-a70e-e8381d2c579f",
   "metadata": {
    "tags": []
   },
   "outputs": [],
   "source": [
    "lower_left, upper_right = model.geometry.bounding_box\n",
    "print(lower_left, upper_right)"
   ]
  },
  {
   "cell_type": "code",
   "execution_count": null,
   "id": "ca8ab1a9",
   "metadata": {},
   "outputs": [],
   "source": [
    "mesh = openmc.RegularMesh()\n",
    "mesh.lower_left = lower_left[:2]\n",
    "mesh.upper_right = upper_right[:2]\n",
    "mesh.dimension = (50, 50)\n",
    "print(mesh)\n",
    "\n",
    "mesh_filter = openmc.MeshFilter(mesh)"
   ]
  },
  {
   "cell_type": "markdown",
   "id": "01bdef40",
   "metadata": {},
   "source": [
    "Learning from our last session on tallies, we'll include a tally with all of the scores needed for determining the neutron source."
   ]
  },
  {
   "cell_type": "code",
   "execution_count": null,
   "id": "95e962ac",
   "metadata": {},
   "outputs": [],
   "source": [
    "mesh_tally = openmc.Tally()\n",
    "mesh_tally.filters = [mesh_filter]\n",
    "mesh_tally.scores = ['flux', 'heating']"
   ]
  },
  {
   "cell_type": "markdown",
   "id": "a65d0ecd-13ee-4f43-836e-b4201567e47a",
   "metadata": {},
   "source": [
    "With these tallies setup, we'll apply them and and run the model."
   ]
  },
  {
   "cell_type": "code",
   "execution_count": null,
   "id": "1d0d6cbd-cf04-4488-8fb7-45d82e5b6e99",
   "metadata": {
    "tags": []
   },
   "outputs": [],
   "source": [
    "model.tallies = [mesh_tally]\n",
    "\n",
    "model.settings.particles = 1000\n",
    "model.settings.batches = 15 \n",
    "model.settings.inactive = 10"
   ]
  },
  {
   "cell_type": "code",
   "execution_count": null,
   "id": "ba9aa8a2",
   "metadata": {},
   "outputs": [],
   "source": [
    "statepoint = model.run()"
   ]
  },
  {
   "cell_type": "code",
   "execution_count": null,
   "id": "0b298f8c-df78-4cfb-83de-4a7a2c8a469c",
   "metadata": {
    "tags": []
   },
   "outputs": [],
   "source": [
    "with openmc.StatePoint(statepoint) as sp:\n",
    "    mesh_tally_out = sp.get_tally(id=mesh_tally.id)"
   ]
  },
  {
   "cell_type": "code",
   "execution_count": null,
   "id": "05d63825",
   "metadata": {},
   "outputs": [],
   "source": [
    "mesh_flux = mesh_tally_out.get_values(scores=['flux'])\n",
    "mesh_flux = mesh_flux.reshape(mesh.dimension)"
   ]
  },
  {
   "cell_type": "code",
   "execution_count": null,
   "id": "2b986dee",
   "metadata": {},
   "outputs": [],
   "source": [
    "import matplotlib.pyplot as plt\n",
    "img = plt.imshow(mesh_flux, origin='lower', extent=[-10.71, 10.71, -10.71, 10.71])\n",
    "plt.xlabel('X [cm]')\n",
    "plt.ylabel('Y [cm]')\n",
    "plt.colorbar(img, label='Flux (unnormalized)')"
   ]
  },
  {
   "cell_type": "markdown",
   "id": "7528075b-0810-4092-9c55-8e5ab4ea9f8a",
   "metadata": {},
   "source": [
    "Just like in our last tutorial, we need to renormalize these flux values by (i) multiplying by the neutron source rate and (ii) dividing by the volume of each tally bin in order to get into units of neutrons/cm$^2$/s."
   ]
  },
  {
   "cell_type": "code",
   "execution_count": null,
   "id": "81185ee4-8955-4e3b-ba42-c2a871172a63",
   "metadata": {
    "tags": []
   },
   "outputs": [],
   "source": [
    "heating = mesh_tally_out.get_values(scores=['heating']).sum()\n",
    "\n",
    "J_to_eV = 1 / 1.6e-19\n",
    "power = 17.34e6\n",
    "neutron_source = power * J_to_eV / heating\n",
    "print(neutron_source)"
   ]
  },
  {
   "cell_type": "markdown",
   "id": "5a5ec39e-a065-4d72-8dcb-2d9354e0401f",
   "metadata": {},
   "source": [
    "For the volume normalization, we'll divide the flux values by the volume of a mesh voxel. Again, we're working with a 2D model so we'll assume an axial length of 1 cm."
   ]
  },
  {
   "cell_type": "code",
   "execution_count": null,
   "id": "5b227c58-9e9e-4b78-ac9d-4e3c94f3d850",
   "metadata": {
    "tags": []
   },
   "outputs": [],
   "source": [
    "import numpy as np\n",
    "\n",
    "volume = np.prod((mesh.upper_right - mesh.lower_left) / mesh.dimension)\n",
    "print(volume)"
   ]
  },
  {
   "cell_type": "code",
   "execution_count": null,
   "id": "42120a7f-0c36-4b69-b341-800353b7815e",
   "metadata": {
    "scrolled": true,
    "tags": []
   },
   "outputs": [],
   "source": [
    "img = plt.imshow(mesh_flux * neutron_source / volume, origin='lower', extent=[-10.71, 10.71, -10.71, 10.71])\n",
    "plt.xlabel('X [cm]')\n",
    "plt.ylabel('Y [cm]')\n",
    "plt.colorbar(img, label='Flux (unnormalized)')"
   ]
  },
  {
   "cell_type": "code",
   "execution_count": null,
   "id": "bbc5733e",
   "metadata": {},
   "outputs": [],
   "source": [
    "mesh_heat = neutron_source * mesh_tally_out.get_values(scores=['heating']) / volume * 1.602e-19\n",
    "mesh_heat = mesh_heat.reshape(mesh.dimension)"
   ]
  },
  {
   "cell_type": "code",
   "execution_count": null,
   "id": "9b759d34",
   "metadata": {
    "scrolled": true
   },
   "outputs": [],
   "source": [
    "img = plt.imshow(mesh_heat, origin='lower', extent=[-10.71, 10.71, -10.71, 10.71])\n",
    "plt.xlabel('X')\n",
    "plt.ylabel('Y')\n",
    "plt.colorbar(img, label='Heating (W/cm$^3$/s)')"
   ]
  },
  {
   "cell_type": "markdown",
   "id": "b84820ac",
   "metadata": {},
   "source": [
    "### Manipulating the tally arrays"
   ]
  },
  {
   "cell_type": "markdown",
   "id": "51d9dc28-fa2a-4efc-b7b4-add31985399d",
   "metadata": {},
   "source": [
    "The `get_values()` method gives us an array with three dimensions: (filters, nuclides, scores). If you have multiple filters in a tally, the `get_reshaped_data()` method will give you a separate dimension for each filter. For our mesh case, this effectively gives the same thing as `get_values()` since there's only a single filter:"
   ]
  },
  {
   "cell_type": "code",
   "execution_count": null,
   "id": "a2f5ea04",
   "metadata": {},
   "outputs": [],
   "source": [
    "mesh_tally_out.shape"
   ]
  },
  {
   "cell_type": "code",
   "execution_count": null,
   "id": "50690e4b-5236-41b5-9352-156f282a36d3",
   "metadata": {
    "tags": []
   },
   "outputs": [],
   "source": [
    "mesh_tally_out.get_reshaped_data().shape"
   ]
  },
  {
   "cell_type": "markdown",
   "id": "09bad70e-891d-4f3d-affa-5972eedef59f",
   "metadata": {},
   "source": [
    "However, there is also an `expand_dims` argument that will expand a mesh filter into multiple dimensions:"
   ]
  },
  {
   "cell_type": "code",
   "execution_count": null,
   "id": "24b9e0da-733b-4ff6-b581-cd1b2959d6d5",
   "metadata": {
    "tags": []
   },
   "outputs": [],
   "source": [
    "mesh_data = mesh_tally_out.get_reshaped_data(expand_dims=True)\n",
    "mesh_data.shape"
   ]
  },
  {
   "cell_type": "code",
   "execution_count": null,
   "id": "3315c925",
   "metadata": {},
   "outputs": [],
   "source": [
    "mesh_data = mesh_tally_out.get_reshaped_data(expand_dims=True).squeeze()\n",
    "mesh_data.shape"
   ]
  },
  {
   "cell_type": "markdown",
   "id": "6c5bbfc4-831a-4111-9fa1-efb6cc53e25f",
   "metadata": {},
   "source": [
    "Now we can index the array if we want to pull out specific values."
   ]
  },
  {
   "cell_type": "code",
   "execution_count": null,
   "id": "92297eb7",
   "metadata": {},
   "outputs": [],
   "source": [
    "mesh_data[0, 0]"
   ]
  },
  {
   "cell_type": "markdown",
   "id": "07f3b6ca",
   "metadata": {},
   "source": [
    "However, this will still have our two different scores one after the other. It would be easier to postprocess this data if we could extract out each score one at a time. To do so, we'll use the `get_slice` method."
   ]
  },
  {
   "cell_type": "code",
   "execution_count": null,
   "id": "b3ec3b72",
   "metadata": {},
   "outputs": [],
   "source": [
    "flux_only = mesh_tally_out.get_slice(scores=['flux'])\n",
    "flux_only.shape"
   ]
  },
  {
   "cell_type": "code",
   "execution_count": null,
   "id": "98586bf0",
   "metadata": {},
   "outputs": [],
   "source": [
    "flux_reshaped = flux_only.get_reshaped_data(expand_dims=True).squeeze()\n",
    "flux_reshaped.shape"
   ]
  },
  {
   "cell_type": "code",
   "execution_count": null,
   "id": "ae317671",
   "metadata": {},
   "outputs": [],
   "source": [
    "flux_reshaped[0, 0]"
   ]
  },
  {
   "cell_type": "markdown",
   "id": "9590ff9f-f69a-49d0-a15f-ef6d3ee7957e",
   "metadata": {},
   "source": [
    "## Distributed cells (distribcells)\n",
    "\n",
    "So this gives us a fairly good idea of what the flux and power distributions look like in this model, but we often want to know the per-pin power generation rate -- something that is hard to post-process with the tallies above (especially because the mesh tally is not conformal to the geometry). We can use a distribcell tally to produce this information easily.\n",
    "\n",
    "A distributed cell (distribcell) is how OpenMC stores cells in universes which are repeated in lattices. In short, each cell in OpenMC is associated with an *id* and an *instance*. If a cell is repeated multiple times throughout a geometry, that cell has the same id, but with unique instances.\n",
    "\n",
    "First, we'll want to create a distribcell tally for the cell containing our fuel material. Based on the list above, our fuel material has the name \"Fuel\". We'll use that to identify the cell we want to setup a distribcell tally for."
   ]
  },
  {
   "cell_type": "code",
   "execution_count": null,
   "id": "4552c773-8975-4784-844b-56ac04802b0f",
   "metadata": {},
   "outputs": [],
   "source": [
    "fuel_cell = None\n",
    "\n",
    "for cell_id, cell in model.geometry.get_all_material_cells().items():\n",
    "    if cell.fill.name == 'Fuel':\n",
    "        fuel_cell = cell\n",
    "        \n",
    "print(fuel_cell)"
   ]
  },
  {
   "cell_type": "code",
   "execution_count": null,
   "id": "4456c383-385e-4e89-bbbc-863d0885478d",
   "metadata": {},
   "outputs": [],
   "source": [
    "model.geometry.determine_paths()\n",
    "print(fuel_cell.num_instances)"
   ]
  },
  {
   "cell_type": "code",
   "execution_count": null,
   "id": "92cd55db-6023-4557-bb96-595885e39ff9",
   "metadata": {},
   "outputs": [],
   "source": [
    "distribcell_filter = openmc.DistribcellFilter(fuel_cell)"
   ]
  },
  {
   "cell_type": "code",
   "execution_count": null,
   "id": "8f91be2d-8c5e-48b9-8755-c1ae31760128",
   "metadata": {},
   "outputs": [],
   "source": [
    "dcell_tally = openmc.Tally()\n",
    "dcell_tally.filters = [distribcell_filter]\n",
    "dcell_tally.scores = ['heating']"
   ]
  },
  {
   "cell_type": "code",
   "execution_count": null,
   "id": "b00f75b2-73fc-4c45-9924-0d143e8531b1",
   "metadata": {},
   "outputs": [],
   "source": [
    "model.tallies = [dcell_tally]"
   ]
  },
  {
   "cell_type": "code",
   "execution_count": null,
   "id": "0006719a-016d-49d9-94cf-d015ae2f4345",
   "metadata": {},
   "outputs": [],
   "source": [
    "statepoint = model.run()"
   ]
  },
  {
   "cell_type": "code",
   "execution_count": null,
   "id": "ed0fb8ab-d934-43d2-ac74-5ce45ebc22ec",
   "metadata": {},
   "outputs": [],
   "source": [
    "with openmc.StatePoint(statepoint) as sp:\n",
    "    dcell_tally_out = sp.tallies[dcell_tally.id]\n",
    "    heat = dcell_tally_out.get_values(scores=['heating'])    \n",
    "\n",
    "heat_df = dcell_tally_out.get_pandas_dataframe()\n",
    "heat_df"
   ]
  },
  {
   "cell_type": "markdown",
   "id": "00383192-07c1-409b-8560-7b1350089d91",
   "metadata": {},
   "source": [
    "As before, we'll create a normalized mean for the heating tally. A little inspection of the cell allows us to calculated the appropriate volume for the tally."
   ]
  },
  {
   "cell_type": "code",
   "execution_count": null,
   "id": "189101d2-306d-4326-89d4-0472bb1d5c0a",
   "metadata": {},
   "outputs": [],
   "source": [
    "print(fuel_cell.region)"
   ]
  },
  {
   "cell_type": "code",
   "execution_count": null,
   "id": "e4504960-3d3b-413c-a42e-6fa99645e45b",
   "metadata": {},
   "outputs": [],
   "source": [
    "surfaces = model.geometry.get_all_surfaces()\n",
    "fuel_cell_surf = surfaces[1]\n",
    "print(fuel_cell_surf)"
   ]
  },
  {
   "cell_type": "code",
   "execution_count": null,
   "id": "e7c6039c-292f-45cb-a98d-584b367ce190",
   "metadata": {},
   "outputs": [],
   "source": [
    "volume = np.pi * fuel_cell_surf.r**2\n",
    "print(volume)"
   ]
  },
  {
   "cell_type": "code",
   "execution_count": null,
   "id": "cced5b54-11ee-4d0c-abb1-2ff5ce4dec45",
   "metadata": {},
   "outputs": [],
   "source": [
    "heat_df['power (W)'] = power * heat_df['mean'] / heating\n",
    "heat_df['power (kW)'] = 1e-03 * heat_df['power (W)']"
   ]
  },
  {
   "cell_type": "code",
   "execution_count": null,
   "id": "ef037b3a-922b-4dde-b924-df5da718f43f",
   "metadata": {},
   "outputs": [],
   "source": [
    "pin_powers = heat_df[['level 2', 'level 3', 'distribcell', 'power (kW)']].copy()"
   ]
  },
  {
   "cell_type": "code",
   "execution_count": null,
   "id": "a4c367d7-3b1f-4f1c-8d70-6ecebfe8d052",
   "metadata": {},
   "outputs": [],
   "source": [
    "pin_powers"
   ]
  }
 ],
 "metadata": {
  "kernelspec": {
   "display_name": "Python 3 (ipykernel)",
   "language": "python",
   "name": "python3"
  },
  "language_info": {
   "codemirror_mode": {
    "name": "ipython",
    "version": 3
   },
   "file_extension": ".py",
   "mimetype": "text/x-python",
   "name": "python",
   "nbconvert_exporter": "python",
   "pygments_lexer": "ipython3",
   "version": "3.11.2"
  }
 },
 "nbformat": 4,
 "nbformat_minor": 5
}
