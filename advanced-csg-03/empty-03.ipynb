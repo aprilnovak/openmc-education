{
 "cells": [
  {
   "cell_type": "markdown",
   "id": "aea362c7-5622-4f5d-8a19-d30399ff922c",
   "metadata": {},
   "source": [
    "# Advanced Geometry\n",
    "\n",
    "When working on the pincell geometry before, we saw how to create cells that are composed of Boolean combinations from surface half-spaces. In principle, this is enough to create pretty much any geometry. However, there are a number of additional functions and classes in the Python API that can greatly simplify how a model is built. In this tutorial, we will leverage features available in the [`openmc.model`](https://docs.openmc.org/en/stable/pythonapi/model.html) module."
   ]
  },
  {
   "cell_type": "code",
   "execution_count": null,
   "id": "1848935c-1071-416a-af0e-7eff92460d0e",
   "metadata": {
    "tags": []
   },
   "outputs": [],
   "source": []
  },
  {
   "cell_type": "markdown",
   "id": "50740ea5",
   "metadata": {},
   "source": [
    "## Convenience Functions"
   ]
  },
  {
   "cell_type": "markdown",
   "id": "bee5fb47-157a-4c93-950c-7f1e43f53970",
   "metadata": {},
   "source": [
    "There is one other function that can simplify the creation of pin-like geometries: `openmc.model.pin`. If you have a fuel pin that consists of multiple concentric cylinders, this function can put together a list of materials and surfaces and return back a fully constructed universe. Let's say we have a pin that consists of fuel, gap, clad, and water."
   ]
  },
  {
   "cell_type": "code",
   "execution_count": null,
   "id": "593007eb-0048-4fbd-9c1b-141e3d994bec",
   "metadata": {
    "tags": []
   },
   "outputs": [],
   "source": [
    "clad = openmc.Material()\n",
    "clad.add_element('Zr', 1.0)\n",
    "clad.set_density('g/cm3', 5.0)\n",
    "\n",
    "water = openmc.Material()\n",
    "water.add_nuclide('H1', 2.0)\n",
    "water.add_nuclide('O16', 1.0)\n",
    "water.set_density('g/cm3', 1.0)"
   ]
  },
  {
   "cell_type": "markdown",
   "id": "61ba6563-6b9b-4b51-8774-7464e434d897",
   "metadata": {},
   "source": [
    "Let's use a list comprehension to create some surfaces:"
   ]
  },
  {
   "cell_type": "code",
   "execution_count": null,
   "id": "856b8371-3183-4388-bf9a-d7007d230f83",
   "metadata": {
    "tags": []
   },
   "outputs": [],
   "source": []
  },
  {
   "cell_type": "markdown",
   "id": "9a8f8b08-d9d3-413f-a9ff-16583974d646",
   "metadata": {},
   "source": [
    "Now we can create a full fuel pin by passing a list of materials and a list of surfaces that the materials will go between:"
   ]
  },
  {
   "cell_type": "code",
   "execution_count": null,
   "id": "0408956e-8fd0-4342-91e2-77d69bd217cc",
   "metadata": {
    "tags": []
   },
   "outputs": [],
   "source": []
  },
  {
   "cell_type": "code",
   "execution_count": null,
   "id": "ec5a7382-9e80-4e1d-80d2-dba49d39eec3",
   "metadata": {
    "tags": []
   },
   "outputs": [],
   "source": []
  },
  {
   "cell_type": "markdown",
   "id": "9fb8f799-db78-4df0-aadf-ed8c52f71fdb",
   "metadata": {},
   "source": [
    "## Composite Surfaces\n",
    "\n",
    "When you create a surface in OpenMC, you get an instance of whatever class you specified. For example, if you call `openmc.XPlane(-5)`, you'll get an `XPlane` object. OpenMC also has several classes that act as \"composite\" surfaces. What this means is that they can be treated like normal surfaces such that you can use `-` and `+`, but the regions returned by these operators actually are composed from multiple primitive surfaces (planes, quadric, etc.). In this manner, they are equivalent to macrobodies in MCNP.\n",
    "\n",
    "The currently available list of composite surfaces can be found [here](https://docs.openmc.org/en/stable/pythonapi/model.html#composite-surfaces)."
   ]
  },
  {
   "cell_type": "markdown",
   "id": "ea20ae69",
   "metadata": {},
   "source": [
    "### Rectangular Prism"
   ]
  },
  {
   "cell_type": "code",
   "execution_count": null,
   "id": "a72c2345",
   "metadata": {},
   "outputs": [],
   "source": []
  },
  {
   "cell_type": "markdown",
   "id": "a9a62516",
   "metadata": {},
   "source": [
    "As we see, this function creates an infinite rectangular prism for us so that we get all four sides without having to define each manually. Let's create a prism of width 10 cm and height 5 cm filled with our water material we created earlier."
   ]
  },
  {
   "cell_type": "code",
   "execution_count": null,
   "id": "62b85868",
   "metadata": {
    "tags": []
   },
   "outputs": [],
   "source": []
  },
  {
   "cell_type": "code",
   "execution_count": null,
   "id": "b74447d3",
   "metadata": {
    "tags": []
   },
   "outputs": [],
   "source": []
  },
  {
   "cell_type": "markdown",
   "id": "cb3c79ed",
   "metadata": {},
   "source": [
    "We can even have rounded corners (fillets) on our prism if we want:"
   ]
  },
  {
   "cell_type": "code",
   "execution_count": null,
   "id": "d2da8187",
   "metadata": {
    "tags": []
   },
   "outputs": [],
   "source": []
  },
  {
   "cell_type": "markdown",
   "id": "d80c982a",
   "metadata": {},
   "source": [
    "### Hexagonal Prism"
   ]
  },
  {
   "cell_type": "markdown",
   "id": "ae1917c3",
   "metadata": {},
   "source": [
    "Along with rectangular prisms, you can also create a hexagonal prism with the `openmc.model.HexagonalPrism` class, which is very useful for many reactor types. For example, defining a typical hexagonal unit pin cell would look something like the following. Note that the `HexagonalPrism` requires us to tell it the length of the *side* of the hexagon."
   ]
  },
  {
   "cell_type": "code",
   "execution_count": null,
   "id": "e508931e",
   "metadata": {
    "tags": []
   },
   "outputs": [],
   "source": []
  },
  {
   "cell_type": "markdown",
   "id": "c2722609",
   "metadata": {},
   "source": [
    "You can imagine that in this case, manually defining each of the six planes would be quite laborious! Similar to `RectangularPrism`, the `HexagonalPrism` class allows you to have rounded corners and also allows you to change the \"orientation\" of the hexagon (flats facing left-right or flats facing up-down)."
   ]
  },
  {
   "cell_type": "code",
   "execution_count": null,
   "id": "3f74ab7e",
   "metadata": {
    "scrolled": true,
    "tags": []
   },
   "outputs": [],
   "source": []
  },
  {
   "cell_type": "markdown",
   "id": "a4804cd8",
   "metadata": {},
   "source": [
    "### Isogonal Octagon"
   ]
  },
  {
   "cell_type": "markdown",
   "id": "5917bad3-6e64-4137-99c5-d0b9b97717ee",
   "metadata": {},
   "source": [
    "As one specific example, the `IsogonalOctagon` composite surface allows you to model an octagon with normal surface-like operations:"
   ]
  },
  {
   "cell_type": "code",
   "execution_count": null,
   "id": "ddd28bd6-bf43-41fc-9b3f-b8b26dbff945",
   "metadata": {
    "tags": []
   },
   "outputs": [],
   "source": []
  },
  {
   "cell_type": "markdown",
   "id": "9c672ce6-dba7-40cf-b267-dbaee10b0266",
   "metadata": {},
   "source": [
    "## Other ways of creating surfaces\n",
    "\n",
    "Sometimes you know what surface you want to define but figuring out all the appropriate coefficients for it can be challenging. For example, the `Plane` class normally requires that you specify the $A$, $B$, $C$, and $D$ coefficients, but it can be a pain to figure these out. Some surface classes in OpenMC have \"alternate constructors\" that can make creating the surface more intuitive. For `Plane` specifically, there is a `Plane.from_points` classmethod that allows you to provide three points that are on the plane, and it will figure out the appropriate coefficients:"
   ]
  },
  {
   "cell_type": "code",
   "execution_count": null,
   "id": "a83c8a08-6e30-4cf6-9ef8-186f7c17b005",
   "metadata": {
    "tags": []
   },
   "outputs": [],
   "source": []
  },
  {
   "cell_type": "markdown",
   "id": "11ca528d-47be-4cbc-8747-b60a924e355e",
   "metadata": {},
   "source": [
    "Similarly, the `Cylinder` class has a `from_points` classmethod that allows you to specify two points going through the axis of the cylinder, which is extremely useful for defining non-axis-aligned cylinders:"
   ]
  },
  {
   "cell_type": "code",
   "execution_count": null,
   "id": "5bd60197",
   "metadata": {},
   "outputs": [],
   "source": []
  },
  {
   "cell_type": "code",
   "execution_count": null,
   "id": "794892be-24eb-4348-9a1e-56ad8f2a5c33",
   "metadata": {
    "tags": []
   },
   "outputs": [],
   "source": [
    "univ.plot(width=(10.0, 10.0))\n",
    "univ.plot(width=(10.0, 10.0), basis='xz')"
   ]
  },
  {
   "cell_type": "markdown",
   "id": "4ccc0960-e4e3-42ed-aeb1-40829ed3d436",
   "metadata": {},
   "source": [
    "Another way that surfaces, particularly ones that are not axis-aligned, can be created is by using the `translate` and `rotate` methods that are available on all surfaces. Another way we could create the cylinder shown above is by creating an axis-aligned cylinder and then rotating it:"
   ]
  },
  {
   "cell_type": "code",
   "execution_count": null,
   "id": "ed504dea",
   "metadata": {},
   "outputs": [],
   "source": []
  },
  {
   "cell_type": "code",
   "execution_count": null,
   "id": "25a96bcc-ea81-4aa7-a590-001143f02b5d",
   "metadata": {
    "tags": []
   },
   "outputs": [],
   "source": [
    "univ.plot(width=(10.0, 10.0))\n",
    "univ.plot(width=(10.0, 10.0), basis='xz')"
   ]
  },
  {
   "cell_type": "code",
   "execution_count": null,
   "id": "4fe1fc51",
   "metadata": {},
   "outputs": [],
   "source": []
  },
  {
   "cell_type": "markdown",
   "id": "4e20624f-ea92-41c5-96c5-cdb3d6e1d46b",
   "metadata": {},
   "source": [
    "## Random sphere packing\n",
    "\n",
    "OpenMC includes a few convenience functions for generating locations of randomly packed spheres that can be used to model TRISO particles and/or pebbles in a reactor core. To be clear, this capability is not a stochastic geometry capability like that included in MCNP. It's also important to note that OpenMC does not (yet) use delta tracking, which would normally speed up calculations in geometries with tons of surfaces and cells. However, the computational burden can be eased by placing random spheres in a lattice, which we will demonstrate here.\n",
    "\n",
    "This capability relies on three functions/classes:\n",
    "- `openmc.model.pack_spheres` -- generate locations of random spheres\n",
    "- `openmc.model.TRISO` -- Cell-like object that holds a universe storing the internal structure of a pebble/TRISO\n",
    "- `openmc.model.create_triso_lattice` -- Creates a lattice containing `TRISO` objects for improved tracking performance"
   ]
  },
  {
   "cell_type": "markdown",
   "id": "fe55480e-f145-44ea-9dad-a87a88de574c",
   "metadata": {},
   "source": [
    "Let's start with the `pack_spheres` function. This function takes an outer radius of the spheres, a containing region, and a packing fraction and will return an array of sphere coordinates. For our example, let's use spheres with a radius of 1 cm and a packing fraction of 30%. We'll put our spheres inside of a finite cylinder using another composite surface, `RightCircularCylinder`."
   ]
  },
  {
   "cell_type": "code",
   "execution_count": null,
   "id": "ce242f8d-0982-4c66-b31b-d29807b97c9d",
   "metadata": {
    "tags": []
   },
   "outputs": [],
   "source": []
  },
  {
   "cell_type": "code",
   "execution_count": null,
   "id": "162fd37a",
   "metadata": {},
   "outputs": [],
   "source": []
  },
  {
   "cell_type": "markdown",
   "id": "880f5867-801f-4856-920b-ef0c83393945",
   "metadata": {},
   "source": [
    "We see that with our cylindrical container, the `pack_spheres` function generated 449 locations for spheres. We can look at a few:"
   ]
  },
  {
   "cell_type": "code",
   "execution_count": null,
   "id": "1f18d6fc-821c-4602-adaa-eca6fd8d2a8e",
   "metadata": {
    "tags": []
   },
   "outputs": [],
   "source": []
  },
  {
   "cell_type": "markdown",
   "id": "5f0035f4-1258-440d-9af6-8d0cc9a8adc5",
   "metadata": {},
   "source": [
    "Now we need to actually creates cells for each of these spheres. To do so, we'll use the `TRISO` class. We'll need to define a universe that we want to fill each sphere. For a five-layer TRISO particle, this will be a universe of five annular spheres. Normally, we'd need to make four sphere surfaces and set up the regions between all of these surfaces. We can use another convenience function, `openmc.model.subdivide` to automatically set up these regions for us. Let's assume our TRISO model has five layers,\n",
    "\n",
    "- $r < 0.5$: layer 1 \n",
    "- $0.5 < r < 0.6$: layer 2\n",
    "- $0.6 < r < 0.7$: layer 3\n",
    "- $0.7 < r < 0.8$: layer 4\n",
    "- $0.8 < r < 1.0$: layer 5\n",
    "\n",
    "In order to make this example quicker, note that we're just filling these regions with the `water` and `clad` materials we created earlier, rather than using realistic materials for TRISO particles."
   ]
  },
  {
   "cell_type": "code",
   "execution_count": null,
   "id": "c94e4dc3",
   "metadata": {},
   "outputs": [],
   "source": []
  },
  {
   "cell_type": "code",
   "execution_count": null,
   "id": "eea08ae8",
   "metadata": {},
   "outputs": [],
   "source": []
  },
  {
   "cell_type": "code",
   "execution_count": null,
   "id": "97105713",
   "metadata": {},
   "outputs": [],
   "source": []
  },
  {
   "cell_type": "code",
   "execution_count": null,
   "id": "e7856f83-0c92-4b1c-b745-406798477c18",
   "metadata": {
    "tags": []
   },
   "outputs": [],
   "source": []
  },
  {
   "cell_type": "markdown",
   "id": "e8a14356-252e-4bc8-bb7e-7459841b32dc",
   "metadata": {},
   "source": [
    "Now we can create a `TRISO` object for each sphere center:"
   ]
  },
  {
   "cell_type": "code",
   "execution_count": null,
   "id": "36ab2c41-af15-47b6-a492-96feed520080",
   "metadata": {
    "tags": []
   },
   "outputs": [],
   "source": []
  },
  {
   "cell_type": "markdown",
   "id": "38a5f100-99b3-4a2a-b156-413926d76ded",
   "metadata": {},
   "source": [
    "Each TRISO object actually is a Cell, in fact; we can look at the properties of the TRISO just as we would a cell:"
   ]
  },
  {
   "cell_type": "code",
   "execution_count": null,
   "id": "028e9d9b-6cd0-48f2-956d-a3936cc73c41",
   "metadata": {
    "tags": []
   },
   "outputs": [],
   "source": []
  },
  {
   "cell_type": "markdown",
   "id": "fffa206f-c61a-4541-85ee-22fd2bdd9288",
   "metadata": {},
   "source": [
    "Let's confirm that the packing fraction of our TRISOs is actually about 30%."
   ]
  },
  {
   "cell_type": "code",
   "execution_count": null,
   "id": "5d2a1826-64a6-469f-b2d0-8ad4db4c7228",
   "metadata": {
    "tags": []
   },
   "outputs": [],
   "source": [
    "from math import pi\n",
    "\n",
    "volume_trisos = len(trisos)*4/3*pi*r_sphere**3\n",
    "volume_cyl = pi * r_cylinder**2 * h_cylinder\n",
    "volume_trisos / volume_cyl"
   ]
  },
  {
   "cell_type": "markdown",
   "id": "cb71b372-ef66-4612-9d4e-44163f2f91bd",
   "metadata": {},
   "source": [
    "Now that we have our spheres created, we can create a new universe that includes each TRISO as a cell plus a \"background\" cell that is composed of all space outside of the spheres. We will fill this background by graphite."
   ]
  },
  {
   "cell_type": "code",
   "execution_count": null,
   "id": "8ab34319",
   "metadata": {},
   "outputs": [],
   "source": [
    "graphite = openmc.Material()\n",
    "graphite.add_element('C', 1.0)\n",
    "graphite.set_density('g/cm3', 2.0)"
   ]
  },
  {
   "cell_type": "code",
   "execution_count": null,
   "id": "140ac3e1",
   "metadata": {},
   "outputs": [],
   "source": []
  },
  {
   "cell_type": "code",
   "execution_count": null,
   "id": "61d733da-e598-4ec1-bd6b-da1ff8264dac",
   "metadata": {
    "tags": []
   },
   "outputs": [],
   "source": [
    "univ.plot(width=(20., 20.), pixels=[500, 500])"
   ]
  },
  {
   "cell_type": "markdown",
   "id": "2a030cf9-4579-4d18-b3e8-cb6339e16f99",
   "metadata": {},
   "source": [
    "While this works in principle, it will lead to **very** poor tracking performance; every time a particle reaches the background cell, it has to determine the distance to the boundary of _every single_ sphere. To improve tracking performance, we can use the `create_triso_lattice` function to overlay a lattice that limits how many distance checks need to be performed."
   ]
  },
  {
   "cell_type": "code",
   "execution_count": null,
   "id": "177a38f3-1b8a-486d-ad7c-9e15bda7aef9",
   "metadata": {
    "tags": []
   },
   "outputs": [],
   "source": []
  },
  {
   "cell_type": "code",
   "execution_count": null,
   "id": "480965af-26a2-4aec-a2fc-605b83e1afb0",
   "metadata": {
    "tags": []
   },
   "outputs": [],
   "source": [
    "univ.plot(width=(20., 20.), pixels=[500, 500])"
   ]
  },
  {
   "cell_type": "code",
   "execution_count": null,
   "id": "2422245a",
   "metadata": {},
   "outputs": [],
   "source": []
  },
  {
   "cell_type": "code",
   "execution_count": null,
   "id": "37c97e7d",
   "metadata": {},
   "outputs": [],
   "source": [
    "univ.plot(width=(20., 20.), pixels=[500, 500], color_by='material')"
   ]
  }
 ],
 "metadata": {
  "kernelspec": {
   "display_name": "Python 3 (ipykernel)",
   "language": "python",
   "name": "python3"
  },
  "language_info": {
   "codemirror_mode": {
    "name": "ipython",
    "version": 3
   },
   "file_extension": ".py",
   "mimetype": "text/x-python",
   "name": "python",
   "nbconvert_exporter": "python",
   "pygments_lexer": "ipython3",
   "version": "3.11.2"
  }
 },
 "nbformat": 4,
 "nbformat_minor": 5
}
