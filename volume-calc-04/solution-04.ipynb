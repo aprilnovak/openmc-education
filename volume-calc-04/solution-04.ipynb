{
 "cells": [
  {
   "cell_type": "markdown",
   "id": "eaf1887f-cb0b-4a84-96ac-66d40e766a9b",
   "metadata": {},
   "source": [
    "# Stochastic Volume Calculations"
   ]
  },
  {
   "cell_type": "markdown",
   "id": "24321fe3-025c-436b-b705-6ac03ebc22ed",
   "metadata": {},
   "source": [
    "Knowing the volume of different regions in a model can be important for tally normalization, which we will illustrate in a later tutorial. In some cases, you can obtain the volume of a cell analytically, but this is not always possible for more complex regions. For these regions, we can use OpenMC's stochastic volume calculation mode."
   ]
  },
  {
   "cell_type": "code",
   "execution_count": 1,
   "id": "8b7f5363-c001-49e7-b12c-fb9e1cd1429e",
   "metadata": {},
   "outputs": [],
   "source": [
    "import openmc"
   ]
  },
  {
   "cell_type": "markdown",
   "id": "109d55cb",
   "metadata": {},
   "source": [
    "We will load a pre-built example in OpenMC to save us a lot of the effort in model building."
   ]
  },
  {
   "cell_type": "code",
   "execution_count": 2,
   "id": "6dfa562c-9a92-4f09-8dc0-72a086344468",
   "metadata": {},
   "outputs": [],
   "source": [
    "model = openmc.examples.pwr_core()"
   ]
  },
  {
   "cell_type": "code",
   "execution_count": null,
   "id": "e0f22927-9760-49d3-b4b6-02f524f33236",
   "metadata": {},
   "outputs": [],
   "source": [
    "model.geometry.root_universe.plot(width=(500, 500), pixels=(500, 500))"
   ]
  },
  {
   "cell_type": "code",
   "execution_count": null,
   "id": "50e677a3-fd5b-4360-b091-c8f0b4fa4a50",
   "metadata": {},
   "outputs": [],
   "source": [
    "model.geometry.root_universe.plot(width=(22, 22), origin=(0, 0, 0), pixels=(500, 500))"
   ]
  },
  {
   "cell_type": "markdown",
   "id": "41c4191f-3059-4d96-9f87-f1d7057ecff6",
   "metadata": {},
   "source": [
    "This model doesn't contain any particularly complex geometry, but there are still regions for which it would be onerous to compute volumes analytically, such as the region between the baffle and barrel (dark green)."
   ]
  },
  {
   "cell_type": "code",
   "execution_count": null,
   "id": "d94bda98-24fc-4ae3-aa5c-21b96a57a01e",
   "metadata": {},
   "outputs": [],
   "source": [
    "model.geometry.root_universe.plot(width=(100, 100), origin=(130, 130, 0), pixels=(500, 500))"
   ]
  },
  {
   "cell_type": "markdown",
   "id": "23643fd8-2471-4dc9-aa7c-14db48ee8d25",
   "metadata": {},
   "source": [
    "Volumes can be computed using a few different domain types: materials, cells, and universes. The number of atoms for different nuclides can be computed as well based on the volumes of materials and their various atom percentages.\n",
    "\n",
    "Volume calculations are performed by randomly selecting locations in a specified bounding box. The number of locations for where a domain item (cell, material, universe) is found indicates how much of the bounding box is occupied by this item.\n",
    "\n",
    "$$ V_{i} = \\frac{N_{i}}{N} V_{box}$$"
   ]
  },
  {
   "cell_type": "markdown",
   "id": "27ccbb4f-a39a-456f-86f3-dd50a254276f",
   "metadata": {},
   "source": [
    "This straightforward method is a relative to one of the most well-known uses of Monte Carlo, [the computation of $\\pi$](https://blogs.sas.com/content/iml/2016/03/14/monte-carlo-estimates-of-pi.html#:~:text=To%20compute%20Monte%20Carlo%20estimates,the%20curve%20is%20%CF%80%20%2F%204.)."
   ]
  },
  {
   "cell_type": "markdown",
   "id": "d3bd184b-df90-4fb4-bfdb-7ff8d9a67124",
   "metadata": {},
   "source": [
    "Let's set up a volume calculation using the materials from this PWR core model. We need to define the bounding box for the volume calculation, which we take to encompass the entire domain."
   ]
  },
  {
   "cell_type": "code",
   "execution_count": 3,
   "id": "24f42abe-34c4-4d4e-b8de-0cbd3d5d7088",
   "metadata": {},
   "outputs": [],
   "source": [
    "lower_left = (-250, -250, -250)\n",
    "upper_right = (250, 250, 250)"
   ]
  },
  {
   "cell_type": "markdown",
   "id": "3c5f9248",
   "metadata": {},
   "source": [
    "Let's compute the volumes of the different materials in the domain."
   ]
  },
  {
   "cell_type": "code",
   "execution_count": 4,
   "id": "f8d71d38-16ae-4252-86b3-0c011a2fc00d",
   "metadata": {},
   "outputs": [
    {
     "name": "stdout",
     "output_type": "stream",
     "text": [
      "12\n",
      "[Material\n",
      "\tID             =\t1\n",
      "\tName           =\tUOX fuel\n",
      "\tTemperature    =\tNone\n",
      "\tDensity        =\t10.062 [g/cm3]\n",
      "\tVolume         =\tNone [cm^3]\n",
      "\tDepletable     =\tTrue\n",
      "\tS(a,b) Tables  \n",
      "\tNuclides       \n",
      "\tU234           =\t4.9476e-06   [ao]\n",
      "\tU235           =\t0.00048218   [ao]\n",
      "\tU238           =\t0.021504     [ao]\n",
      "\tXe135          =\t1.0801e-08   [ao]\n",
      "\tO16            =\t0.045737     [ao]\n",
      ", Material\n",
      "\tID             =\t2\n",
      "\tName           =\tZircaloy\n",
      "\tTemperature    =\tNone\n",
      "\tDensity        =\t5.77 [g/cm3]\n",
      "\tVolume         =\tNone [cm^3]\n",
      "\tDepletable     =\tFalse\n",
      "\tS(a,b) Tables  \n",
      "\tNuclides       \n",
      "\tZr90           =\t0.5145       [ao]\n",
      "\tZr91           =\t0.1122       [ao]\n",
      "\tZr92           =\t0.1715       [ao]\n",
      "\tZr94           =\t0.1738       [ao]\n",
      "\tZr96           =\t0.028        [ao]\n",
      "]\n"
     ]
    }
   ],
   "source": [
    "materials = model.materials\n",
    "\n",
    "print(len(materials))\n",
    "print(materials[:2])"
   ]
  },
  {
   "cell_type": "code",
   "execution_count": 6,
   "id": "045a37dc-0cdd-4c81-bbdc-ec640b1cef1a",
   "metadata": {},
   "outputs": [],
   "source": [
    "vc = openmc.VolumeCalculation(materials, samples=10_000_000, lower_left=lower_left, upper_right=upper_right)"
   ]
  },
  {
   "cell_type": "markdown",
   "id": "99b53f1d-3119-4621-a55a-f7d30e0d6a08",
   "metadata": {},
   "source": [
    "Now we apply the volume calculation to the model's settings and we're ready to run!"
   ]
  },
  {
   "cell_type": "code",
   "execution_count": 7,
   "id": "9132870d-e2cf-40fa-8ebd-8c693907c9f6",
   "metadata": {},
   "outputs": [],
   "source": [
    "model.settings.volume_calculations = [vc]"
   ]
  },
  {
   "cell_type": "code",
   "execution_count": 8,
   "id": "f2d7666a-ce46-4206-ad8b-9064a7f60087",
   "metadata": {},
   "outputs": [
    {
     "name": "stdout",
     "output_type": "stream",
     "text": [
      "                                %%%%%%%%%%%%%%%\n",
      "                           %%%%%%%%%%%%%%%%%%%%%%%%\n",
      "                        %%%%%%%%%%%%%%%%%%%%%%%%%%%%%%\n",
      "                      %%%%%%%%%%%%%%%%%%%%%%%%%%%%%%%%%%\n",
      "                    %%%%%%%%%%%%%%%%%%%%%%%%%%%%%%%%%%%%%%\n",
      "                   %%%%%%%%%%%%%%%%%%%%%%%%%%%%%%%%%%%%%%%%\n",
      "                                    %%%%%%%%%%%%%%%%%%%%%%%%\n",
      "                                     %%%%%%%%%%%%%%%%%%%%%%%%\n",
      "                 ###############      %%%%%%%%%%%%%%%%%%%%%%%%\n",
      "                ##################     %%%%%%%%%%%%%%%%%%%%%%%\n",
      "                ###################     %%%%%%%%%%%%%%%%%%%%%%%\n",
      "                ####################     %%%%%%%%%%%%%%%%%%%%%%\n",
      "                #####################     %%%%%%%%%%%%%%%%%%%%%\n",
      "                ######################     %%%%%%%%%%%%%%%%%%%%\n",
      "                #######################     %%%%%%%%%%%%%%%%%%\n",
      "                 #######################     %%%%%%%%%%%%%%%%%\n",
      "                 ######################     %%%%%%%%%%%%%%%%%\n",
      "                  ####################     %%%%%%%%%%%%%%%%%\n",
      "                    #################     %%%%%%%%%%%%%%%%%\n",
      "                     ###############     %%%%%%%%%%%%%%%%\n",
      "                       ############     %%%%%%%%%%%%%%%\n",
      "                          ########     %%%%%%%%%%%%%%\n",
      "                                      %%%%%%%%%%%\n",
      "\n",
      "                 | The OpenMC Monte Carlo Code\n",
      "       Copyright | 2011-2024 MIT, UChicago Argonne LLC, and contributors\n",
      "         License | https://docs.openmc.org/en/latest/license.html\n",
      "         Version | 0.14.1-dev\n",
      "        Git SHA1 | 14ce3cec4b388ae8b7ec5b28db57dbcbff06f147\n",
      "       Date/Time | 2024-06-04 13:10:30\n",
      "   MPI Processes | 1\n",
      "  OpenMP Threads | 8\n",
      "\n",
      " Reading settings XML file...\n",
      " Reading cross sections XML file...\n",
      " Reading materials XML file...\n",
      " Reading geometry XML file...\n",
      " Reading U234 from\n",
      " /Users/anovak/projects/cross_sections/endfb-vii.1-hdf5/neutron/U234.h5\n",
      " Reading U235 from\n",
      " /Users/anovak/projects/cross_sections/endfb-vii.1-hdf5/neutron/U235.h5\n",
      " Reading U238 from\n",
      " /Users/anovak/projects/cross_sections/endfb-vii.1-hdf5/neutron/U238.h5\n",
      " Reading Xe135 from\n",
      " /Users/anovak/projects/cross_sections/endfb-vii.1-hdf5/neutron/Xe135.h5\n",
      " Reading O16 from\n",
      " /Users/anovak/projects/cross_sections/endfb-vii.1-hdf5/neutron/O16.h5\n",
      " Reading Zr90 from\n",
      " /Users/anovak/projects/cross_sections/endfb-vii.1-hdf5/neutron/Zr90.h5\n",
      " Reading Zr91 from\n",
      " /Users/anovak/projects/cross_sections/endfb-vii.1-hdf5/neutron/Zr91.h5\n",
      " Reading Zr92 from\n",
      " /Users/anovak/projects/cross_sections/endfb-vii.1-hdf5/neutron/Zr92.h5\n",
      " Reading Zr94 from\n",
      " /Users/anovak/projects/cross_sections/endfb-vii.1-hdf5/neutron/Zr94.h5\n",
      " Reading Zr96 from\n",
      " /Users/anovak/projects/cross_sections/endfb-vii.1-hdf5/neutron/Zr96.h5\n",
      " Reading H1 from\n",
      " /Users/anovak/projects/cross_sections/endfb-vii.1-hdf5/neutron/H1.h5\n",
      " Reading B10 from\n",
      " /Users/anovak/projects/cross_sections/endfb-vii.1-hdf5/neutron/B10.h5\n",
      " Reading B11 from\n",
      " /Users/anovak/projects/cross_sections/endfb-vii.1-hdf5/neutron/B11.h5\n",
      " Reading Fe54 from\n",
      " /Users/anovak/projects/cross_sections/endfb-vii.1-hdf5/neutron/Fe54.h5\n",
      " Reading Fe56 from\n",
      " /Users/anovak/projects/cross_sections/endfb-vii.1-hdf5/neutron/Fe56.h5\n",
      " Reading Fe57 from\n",
      " /Users/anovak/projects/cross_sections/endfb-vii.1-hdf5/neutron/Fe57.h5\n",
      " Reading Fe58 from\n",
      " /Users/anovak/projects/cross_sections/endfb-vii.1-hdf5/neutron/Fe58.h5\n",
      " Reading Ni58 from\n",
      " /Users/anovak/projects/cross_sections/endfb-vii.1-hdf5/neutron/Ni58.h5\n",
      " Reading Ni60 from\n",
      " /Users/anovak/projects/cross_sections/endfb-vii.1-hdf5/neutron/Ni60.h5\n",
      " Reading Mn55 from\n",
      " /Users/anovak/projects/cross_sections/endfb-vii.1-hdf5/neutron/Mn55.h5\n",
      " Reading Cr52 from\n",
      " /Users/anovak/projects/cross_sections/endfb-vii.1-hdf5/neutron/Cr52.h5\n",
      " Reading C0 from\n",
      " /Users/anovak/projects/cross_sections/endfb-vii.1-hdf5/neutron/C0.h5\n",
      " Reading Cu63 from\n",
      " /Users/anovak/projects/cross_sections/endfb-vii.1-hdf5/neutron/Cu63.h5\n",
      " Reading c_H_in_H2O from\n",
      " /Users/anovak/projects/cross_sections/endfb-vii.1-hdf5/neutron/c_H_in_H2O.h5\n",
      " Minimum neutron data temperature: 1.7976931348623157e+308 K\n",
      " Maximum neutron data temperature: 0 K\n",
      " Preparing distributed cell instances...\n",
      " Reading plot XML file...\n",
      " Writing summary.h5 file...\n",
      "\n",
      " =================>     STOCHASTIC VOLUME CALCULATION     <=================\n",
      "\n",
      " Running volume calculation 1\n",
      "   Material 1 UOX fuel: 12296725 +/- 11772.345472650619 cm^3\n",
      "   Material 2 Zircaloy: 4706250 +/- 7524.177436354754 cm^3\n",
      "   Material 3 Cold borated water: 16623875 +/- 13422.485444150703 cm^3\n",
      "   Material 4 Hot borated water: 16606150 +/- 13416.4247554164 cm^3\n",
      "   Material 5 Reactor pressure vessel steel: 13583287.5 +/- 12302.053642349085\n",
      " cm^3\n",
      "   Material 6 Lower radial reflector: 426762.5 +/- 2305.7143419902163 cm^3\n",
      "   Material 7 Upper radial reflector / Top plate region: 2165737.5 +/-\n",
      " 5157.778287025274 cm^3\n",
      "   Material 8 Bottom plate region: 4937600 +/- 7699.481191872605 cm^3\n",
      "   Material 9 Bottom nozzle region: 12046012.5 +/- 11664.66949960368 cm^3\n",
      "   Material 10 Top nozzle region: 1326712.5 +/- 4050.6653335266265 cm^3\n",
      "   Material 11 Top of fuel assemblies: 2214250 +/- 5214.19549822885 cm^3\n",
      "   Material 12 Bottom of fuel assemblies: 1107987.5 +/- 3705.007438586915 cm^3\n",
      " Elapsed time: 0.613809786 s\n"
     ]
    }
   ],
   "source": [
    "model.calculate_volumes()"
   ]
  },
  {
   "cell_type": "markdown",
   "id": "7619b750",
   "metadata": {},
   "source": [
    "We can see that the volume information was printed to the screen after the solve completes. We can also access this information from an HDF5 file which OpenMC writes. We can directly apply this volume information to the materials in our model, if we want to use it later on for tally normalization."
   ]
  },
  {
   "cell_type": "code",
   "execution_count": 9,
   "id": "8dbbedcf-3806-4a00-ab08-f614daed8739",
   "metadata": {},
   "outputs": [],
   "source": [
    "vc.load_results('volume_1.h5')"
   ]
  },
  {
   "cell_type": "code",
   "execution_count": 10,
   "id": "9d9fbea3-7de9-444c-be8c-04893da38c0a",
   "metadata": {},
   "outputs": [],
   "source": [
    "model.geometry.add_volume_information(vc)"
   ]
  },
  {
   "cell_type": "code",
   "execution_count": 11,
   "id": "13c89553-b5c2-46d1-a98e-e9fc90ea7535",
   "metadata": {},
   "outputs": [
    {
     "data": {
      "text/plain": [
       "12296725.0"
      ]
     },
     "execution_count": 11,
     "metadata": {},
     "output_type": "execute_result"
    }
   ],
   "source": [
    "model.materials[0].volume"
   ]
  },
  {
   "cell_type": "markdown",
   "id": "80019844-292c-4d61-afc5-d383fead589c",
   "metadata": {},
   "source": [
    "Pretty easy overall! Now we'll look use a different volume calculation to compute volumes according to the different cells in this PWR. In this case, we will set `domains` to all of the cells in the problem."
   ]
  },
  {
   "cell_type": "code",
   "execution_count": 18,
   "id": "c67a9fde-c53f-41fc-a503-814afd80b5a3",
   "metadata": {},
   "outputs": [],
   "source": [
    "cells = list(model.geometry.get_all_cells().values())\n",
    "\n",
    "cell_vc = openmc.VolumeCalculation(domains=cells, samples=10_000_000, lower_left=lower_left, upper_right=upper_right)\n",
    "model.settings.volume_calculations = [cell_vc]"
   ]
  },
  {
   "cell_type": "code",
   "execution_count": 19,
   "id": "13335317-e618-441c-a360-c66238262e29",
   "metadata": {
    "scrolled": false
   },
   "outputs": [
    {
     "name": "stdout",
     "output_type": "stream",
     "text": [
      "                                %%%%%%%%%%%%%%%\n",
      "                           %%%%%%%%%%%%%%%%%%%%%%%%\n",
      "                        %%%%%%%%%%%%%%%%%%%%%%%%%%%%%%\n",
      "                      %%%%%%%%%%%%%%%%%%%%%%%%%%%%%%%%%%\n",
      "                    %%%%%%%%%%%%%%%%%%%%%%%%%%%%%%%%%%%%%%\n",
      "                   %%%%%%%%%%%%%%%%%%%%%%%%%%%%%%%%%%%%%%%%\n",
      "                                    %%%%%%%%%%%%%%%%%%%%%%%%\n",
      "                                     %%%%%%%%%%%%%%%%%%%%%%%%\n",
      "                 ###############      %%%%%%%%%%%%%%%%%%%%%%%%\n",
      "                ##################     %%%%%%%%%%%%%%%%%%%%%%%\n",
      "                ###################     %%%%%%%%%%%%%%%%%%%%%%%\n",
      "                ####################     %%%%%%%%%%%%%%%%%%%%%%\n",
      "                #####################     %%%%%%%%%%%%%%%%%%%%%\n",
      "                ######################     %%%%%%%%%%%%%%%%%%%%\n",
      "                #######################     %%%%%%%%%%%%%%%%%%\n",
      "                 #######################     %%%%%%%%%%%%%%%%%\n",
      "                 ######################     %%%%%%%%%%%%%%%%%\n",
      "                  ####################     %%%%%%%%%%%%%%%%%\n",
      "                    #################     %%%%%%%%%%%%%%%%%\n",
      "                     ###############     %%%%%%%%%%%%%%%%\n",
      "                       ############     %%%%%%%%%%%%%%%\n",
      "                          ########     %%%%%%%%%%%%%%\n",
      "                                      %%%%%%%%%%%\n",
      "\n",
      "                 | The OpenMC Monte Carlo Code\n",
      "       Copyright | 2011-2024 MIT, UChicago Argonne LLC, and contributors\n",
      "         License | https://docs.openmc.org/en/latest/license.html\n",
      "         Version | 0.14.1-dev\n",
      "        Git SHA1 | 14ce3cec4b388ae8b7ec5b28db57dbcbff06f147\n",
      "       Date/Time | 2024-06-04 13:12:00\n",
      "   MPI Processes | 1\n",
      "  OpenMP Threads | 8\n",
      "\n",
      " Reading settings XML file...\n",
      " Reading cross sections XML file...\n",
      " Reading materials XML file...\n",
      " Reading geometry XML file...\n",
      " Reading U234 from\n",
      " /Users/anovak/projects/cross_sections/endfb-vii.1-hdf5/neutron/U234.h5\n",
      " Reading U235 from\n",
      " /Users/anovak/projects/cross_sections/endfb-vii.1-hdf5/neutron/U235.h5\n",
      " Reading U238 from\n",
      " /Users/anovak/projects/cross_sections/endfb-vii.1-hdf5/neutron/U238.h5\n",
      " Reading Xe135 from\n",
      " /Users/anovak/projects/cross_sections/endfb-vii.1-hdf5/neutron/Xe135.h5\n",
      " Reading O16 from\n",
      " /Users/anovak/projects/cross_sections/endfb-vii.1-hdf5/neutron/O16.h5\n",
      " Reading Zr90 from\n",
      " /Users/anovak/projects/cross_sections/endfb-vii.1-hdf5/neutron/Zr90.h5\n",
      " Reading Zr91 from\n",
      " /Users/anovak/projects/cross_sections/endfb-vii.1-hdf5/neutron/Zr91.h5\n",
      " Reading Zr92 from\n",
      " /Users/anovak/projects/cross_sections/endfb-vii.1-hdf5/neutron/Zr92.h5\n",
      " Reading Zr94 from\n",
      " /Users/anovak/projects/cross_sections/endfb-vii.1-hdf5/neutron/Zr94.h5\n",
      " Reading Zr96 from\n",
      " /Users/anovak/projects/cross_sections/endfb-vii.1-hdf5/neutron/Zr96.h5\n",
      " Reading H1 from\n",
      " /Users/anovak/projects/cross_sections/endfb-vii.1-hdf5/neutron/H1.h5\n",
      " Reading B10 from\n",
      " /Users/anovak/projects/cross_sections/endfb-vii.1-hdf5/neutron/B10.h5\n",
      " Reading B11 from\n",
      " /Users/anovak/projects/cross_sections/endfb-vii.1-hdf5/neutron/B11.h5\n",
      " Reading Fe54 from\n",
      " /Users/anovak/projects/cross_sections/endfb-vii.1-hdf5/neutron/Fe54.h5\n",
      " Reading Fe56 from\n",
      " /Users/anovak/projects/cross_sections/endfb-vii.1-hdf5/neutron/Fe56.h5\n",
      " Reading Fe57 from\n",
      " /Users/anovak/projects/cross_sections/endfb-vii.1-hdf5/neutron/Fe57.h5\n",
      " Reading Fe58 from\n",
      " /Users/anovak/projects/cross_sections/endfb-vii.1-hdf5/neutron/Fe58.h5\n",
      " Reading Ni58 from\n",
      " /Users/anovak/projects/cross_sections/endfb-vii.1-hdf5/neutron/Ni58.h5\n",
      " Reading Ni60 from\n",
      " /Users/anovak/projects/cross_sections/endfb-vii.1-hdf5/neutron/Ni60.h5\n",
      " Reading Mn55 from\n",
      " /Users/anovak/projects/cross_sections/endfb-vii.1-hdf5/neutron/Mn55.h5\n",
      " Reading Cr52 from\n",
      " /Users/anovak/projects/cross_sections/endfb-vii.1-hdf5/neutron/Cr52.h5\n",
      " Reading C0 from\n",
      " /Users/anovak/projects/cross_sections/endfb-vii.1-hdf5/neutron/C0.h5\n",
      " Reading Cu63 from\n",
      " /Users/anovak/projects/cross_sections/endfb-vii.1-hdf5/neutron/Cu63.h5\n",
      " Reading c_H_in_H2O from\n",
      " /Users/anovak/projects/cross_sections/endfb-vii.1-hdf5/neutron/c_H_in_H2O.h5\n",
      " Minimum neutron data temperature: 1.7976931348623157e+308 K\n",
      " Maximum neutron data temperature: 0 K\n",
      " Preparing distributed cell instances...\n",
      " Reading plot XML file...\n",
      " Writing summary.h5 file...\n",
      "\n",
      " =================>     STOCHASTIC VOLUME CALCULATION     <=================\n",
      "\n",
      " Running volume calculation 1\n",
      "   Cell 1: 25114225 +/- 15838.414780682362 cm^3\n",
      "   Cell 2: 25118775 +/- 15839.488683348889 cm^3\n",
      "   Cell 3: 4937600 +/- 7699.481191872605 cm^3\n",
      "   Cell 4: 658987.5 +/- 2862.5019296909436 cm^3\n",
      "   Cell 5: 1107987.5 +/- 3705.007438586915 cm^3\n",
      "   Cell 6: 2214250 +/- 5214.19549822885 cm^3\n",
      "   Cell 7: 1326712.5 +/- 4050.6653335266265 cm^3\n",
      "   Cell 8: 1311487.5 +/- 4027.603978016505 cm^3\n",
      "   Cell 9: 11387025 +/- 11374.153975788155 cm^3\n",
      "   Cell 10: 13583287.5 +/- 12302.053642349085 cm^3\n",
      "   Cell 11: 426762.5 +/- 2305.7143419902163 cm^3\n",
      "   Cell 12: 854250 +/- 3256.555034657022 cm^3\n",
      "   Cell 50: 4888775 +/- 7662.876444256262 cm^3\n",
      "   Cell 60: 20225450 +/- 14557.171505129354 cm^3\n",
      "   Cell 21: 6137050 +/- 8540.889106512857 cm^3\n",
      "   Cell 22: 2109050 +/- 5091.003418752535 cm^3\n",
      "   Cell 23: 10229287.5 +/- 10835.232414407841 cm^3\n",
      "   Cell 24: 1089237.5 +/- 3673.8025146786777 cm^3\n",
      "   Cell 25: 244250 +/- 1745.6114097215336 cm^3\n",
      "   Cell 26: 416575 +/- 2278.1207226434467 cm^3\n",
      "   Cell 70: 4878600 +/- 7655.222152491722 cm^3\n",
      "   Cell 80: 20240175 +/- 14561.44632572388 cm^3\n",
      "   Cell 27: 6159675 +/- 8555.803754729155 cm^3\n",
      "   Cell 28: 2106437.5 +/- 5087.90338507517 cm^3\n",
      "   Cell 29: 10225212.5 +/- 10833.266321058685 cm^3\n",
      "   Cell 30: 1086150 +/- 3668.637733239683 cm^3\n",
      "   Cell 31: 246512.5 +/- 1753.6617144518993 cm^3\n",
      "   Cell 32: 416187.5 +/- 2277.0644581312085 cm^3\n",
      " Elapsed time: 0.723290826 s\n"
     ]
    }
   ],
   "source": [
    "model.calculate_volumes()"
   ]
  },
  {
   "cell_type": "code",
   "execution_count": 16,
   "id": "882538fc-e351-4431-b776-d327256b6222",
   "metadata": {},
   "outputs": [
    {
     "data": {
      "text/plain": [
       "25114225.0"
      ]
     },
     "execution_count": 16,
     "metadata": {},
     "output_type": "execute_result"
    }
   ],
   "source": [
    "cells[0].volume"
   ]
  },
  {
   "cell_type": "markdown",
   "id": "7768f2e5",
   "metadata": {},
   "source": [
    "We can also view the number of atoms of each nuclide in each cell, through a Pandas dataframe."
   ]
  },
  {
   "cell_type": "code",
   "execution_count": 20,
   "id": "ff76f606-e13d-43dd-9ba7-1af57be78b8d",
   "metadata": {},
   "outputs": [
    {
     "data": {
      "text/html": [
       "<div>\n",
       "<style scoped>\n",
       "    .dataframe tbody tr th:only-of-type {\n",
       "        vertical-align: middle;\n",
       "    }\n",
       "\n",
       "    .dataframe tbody tr th {\n",
       "        vertical-align: top;\n",
       "    }\n",
       "\n",
       "    .dataframe thead th {\n",
       "        text-align: right;\n",
       "    }\n",
       "</style>\n",
       "<table border=\"1\" class=\"dataframe\">\n",
       "  <thead>\n",
       "    <tr style=\"text-align: right;\">\n",
       "      <th></th>\n",
       "      <th>Cell</th>\n",
       "      <th>Nuclide</th>\n",
       "      <th>Atoms</th>\n",
       "    </tr>\n",
       "  </thead>\n",
       "  <tbody>\n",
       "    <tr>\n",
       "      <th>0</th>\n",
       "      <td>1</td>\n",
       "      <td>U234</td>\n",
       "      <td>(3.084+/-0.004)e+25</td>\n",
       "    </tr>\n",
       "    <tr>\n",
       "      <th>1</th>\n",
       "      <td>1</td>\n",
       "      <td>U235</td>\n",
       "      <td>(3.006+/-0.004)e+27</td>\n",
       "    </tr>\n",
       "    <tr>\n",
       "      <th>2</th>\n",
       "      <td>1</td>\n",
       "      <td>U238</td>\n",
       "      <td>(1.3406+/-0.0019)e+29</td>\n",
       "    </tr>\n",
       "    <tr>\n",
       "      <th>3</th>\n",
       "      <td>1</td>\n",
       "      <td>Xe135</td>\n",
       "      <td>(6.734+/-0.009)e+22</td>\n",
       "    </tr>\n",
       "    <tr>\n",
       "      <th>4</th>\n",
       "      <td>1</td>\n",
       "      <td>O16</td>\n",
       "      <td>(6.956+/-0.005)e+29</td>\n",
       "    </tr>\n",
       "    <tr>\n",
       "      <th>...</th>\n",
       "      <td>...</td>\n",
       "      <td>...</td>\n",
       "      <td>...</td>\n",
       "    </tr>\n",
       "    <tr>\n",
       "      <th>214</th>\n",
       "      <td>9</td>\n",
       "      <td>Fe57</td>\n",
       "      <td>(3.752+/-0.004)e+27</td>\n",
       "    </tr>\n",
       "    <tr>\n",
       "      <th>215</th>\n",
       "      <td>9</td>\n",
       "      <td>Fe58</td>\n",
       "      <td>(5.001+/-0.005)e+26</td>\n",
       "    </tr>\n",
       "    <tr>\n",
       "      <th>216</th>\n",
       "      <td>9</td>\n",
       "      <td>Ni58</td>\n",
       "      <td>(1.4961+/-0.0015)e+28</td>\n",
       "    </tr>\n",
       "    <tr>\n",
       "      <th>217</th>\n",
       "      <td>9</td>\n",
       "      <td>Mn55</td>\n",
       "      <td>(5.218+/-0.005)e+27</td>\n",
       "    </tr>\n",
       "    <tr>\n",
       "      <th>218</th>\n",
       "      <td>9</td>\n",
       "      <td>Cr52</td>\n",
       "      <td>(4.388+/-0.004)e+28</td>\n",
       "    </tr>\n",
       "  </tbody>\n",
       "</table>\n",
       "<p>219 rows × 3 columns</p>\n",
       "</div>"
      ],
      "text/plain": [
       "     Cell Nuclide                  Atoms\n",
       "0       1    U234    (3.084+/-0.004)e+25\n",
       "1       1    U235    (3.006+/-0.004)e+27\n",
       "2       1    U238  (1.3406+/-0.0019)e+29\n",
       "3       1   Xe135    (6.734+/-0.009)e+22\n",
       "4       1     O16    (6.956+/-0.005)e+29\n",
       "..    ...     ...                    ...\n",
       "214     9    Fe57    (3.752+/-0.004)e+27\n",
       "215     9    Fe58    (5.001+/-0.005)e+26\n",
       "216     9    Ni58  (1.4961+/-0.0015)e+28\n",
       "217     9    Mn55    (5.218+/-0.005)e+27\n",
       "218     9    Cr52    (4.388+/-0.004)e+28\n",
       "\n",
       "[219 rows x 3 columns]"
      ]
     },
     "execution_count": 20,
     "metadata": {},
     "output_type": "execute_result"
    }
   ],
   "source": [
    "cell_vc.atoms_dataframe"
   ]
  },
  {
   "cell_type": "markdown",
   "id": "b8232fd4-5e82-438b-87aa-327fae528afd",
   "metadata": {},
   "source": [
    "As we see in the simulation output, there is uncertainty associated with these results. The OpenMC volume calculation is *stochastic*, and is essentially obtained by \"throwing darts\" at the problem. The more samples used, the lower the statistical uncertainty.\n",
    "\n",
    "All OpenMC tallies support triggers, which will continue increasing the number of samples taken until reaching some desired statistical uncertainty. We will also use these features for other tally types in a later tutorial."
   ]
  },
  {
   "cell_type": "code",
   "execution_count": 21,
   "id": "7fed574e-8c41-4ad8-a3dc-1ed846aefabf",
   "metadata": {},
   "outputs": [],
   "source": [
    "vc.samples = 100_000\n",
    "vc.set_trigger(15_000, 'std_dev')"
   ]
  },
  {
   "cell_type": "code",
   "execution_count": 22,
   "id": "be8d4d67-3adb-4fee-82f8-2b36b471498a",
   "metadata": {},
   "outputs": [],
   "source": [
    "model.settings.volume_calculations = [vc]"
   ]
  },
  {
   "cell_type": "code",
   "execution_count": 23,
   "id": "27e125a5-4fbb-4a3e-b58f-bd7f4cccc4a0",
   "metadata": {},
   "outputs": [
    {
     "name": "stdout",
     "output_type": "stream",
     "text": [
      "                                %%%%%%%%%%%%%%%\n",
      "                           %%%%%%%%%%%%%%%%%%%%%%%%\n",
      "                        %%%%%%%%%%%%%%%%%%%%%%%%%%%%%%\n",
      "                      %%%%%%%%%%%%%%%%%%%%%%%%%%%%%%%%%%\n",
      "                    %%%%%%%%%%%%%%%%%%%%%%%%%%%%%%%%%%%%%%\n",
      "                   %%%%%%%%%%%%%%%%%%%%%%%%%%%%%%%%%%%%%%%%\n",
      "                                    %%%%%%%%%%%%%%%%%%%%%%%%\n",
      "                                     %%%%%%%%%%%%%%%%%%%%%%%%\n",
      "                 ###############      %%%%%%%%%%%%%%%%%%%%%%%%\n",
      "                ##################     %%%%%%%%%%%%%%%%%%%%%%%\n",
      "                ###################     %%%%%%%%%%%%%%%%%%%%%%%\n",
      "                ####################     %%%%%%%%%%%%%%%%%%%%%%\n",
      "                #####################     %%%%%%%%%%%%%%%%%%%%%\n",
      "                ######################     %%%%%%%%%%%%%%%%%%%%\n",
      "                #######################     %%%%%%%%%%%%%%%%%%\n",
      "                 #######################     %%%%%%%%%%%%%%%%%\n",
      "                 ######################     %%%%%%%%%%%%%%%%%\n",
      "                  ####################     %%%%%%%%%%%%%%%%%\n",
      "                    #################     %%%%%%%%%%%%%%%%%\n",
      "                     ###############     %%%%%%%%%%%%%%%%\n",
      "                       ############     %%%%%%%%%%%%%%%\n",
      "                          ########     %%%%%%%%%%%%%%\n",
      "                                      %%%%%%%%%%%\n",
      "\n",
      "                 | The OpenMC Monte Carlo Code\n",
      "       Copyright | 2011-2024 MIT, UChicago Argonne LLC, and contributors\n",
      "         License | https://docs.openmc.org/en/latest/license.html\n",
      "         Version | 0.14.1-dev\n",
      "        Git SHA1 | 14ce3cec4b388ae8b7ec5b28db57dbcbff06f147\n",
      "       Date/Time | 2024-06-04 13:13:57\n",
      "   MPI Processes | 1\n",
      "  OpenMP Threads | 8\n",
      "\n",
      " Reading settings XML file...\n",
      " Reading cross sections XML file...\n",
      " Reading materials XML file...\n",
      " Reading geometry XML file...\n",
      " Reading U234 from\n",
      " /Users/anovak/projects/cross_sections/endfb-vii.1-hdf5/neutron/U234.h5\n",
      " Reading U235 from\n",
      " /Users/anovak/projects/cross_sections/endfb-vii.1-hdf5/neutron/U235.h5\n",
      " Reading U238 from\n",
      " /Users/anovak/projects/cross_sections/endfb-vii.1-hdf5/neutron/U238.h5\n",
      " Reading Xe135 from\n",
      " /Users/anovak/projects/cross_sections/endfb-vii.1-hdf5/neutron/Xe135.h5\n",
      " Reading O16 from\n",
      " /Users/anovak/projects/cross_sections/endfb-vii.1-hdf5/neutron/O16.h5\n",
      " Reading Zr90 from\n",
      " /Users/anovak/projects/cross_sections/endfb-vii.1-hdf5/neutron/Zr90.h5\n",
      " Reading Zr91 from\n",
      " /Users/anovak/projects/cross_sections/endfb-vii.1-hdf5/neutron/Zr91.h5\n",
      " Reading Zr92 from\n",
      " /Users/anovak/projects/cross_sections/endfb-vii.1-hdf5/neutron/Zr92.h5\n",
      " Reading Zr94 from\n",
      " /Users/anovak/projects/cross_sections/endfb-vii.1-hdf5/neutron/Zr94.h5\n",
      " Reading Zr96 from\n",
      " /Users/anovak/projects/cross_sections/endfb-vii.1-hdf5/neutron/Zr96.h5\n",
      " Reading H1 from\n",
      " /Users/anovak/projects/cross_sections/endfb-vii.1-hdf5/neutron/H1.h5\n",
      " Reading B10 from\n",
      " /Users/anovak/projects/cross_sections/endfb-vii.1-hdf5/neutron/B10.h5\n",
      " Reading B11 from\n",
      " /Users/anovak/projects/cross_sections/endfb-vii.1-hdf5/neutron/B11.h5\n",
      " Reading Fe54 from\n",
      " /Users/anovak/projects/cross_sections/endfb-vii.1-hdf5/neutron/Fe54.h5\n",
      " Reading Fe56 from\n",
      " /Users/anovak/projects/cross_sections/endfb-vii.1-hdf5/neutron/Fe56.h5\n",
      " Reading Fe57 from\n",
      " /Users/anovak/projects/cross_sections/endfb-vii.1-hdf5/neutron/Fe57.h5\n",
      " Reading Fe58 from\n",
      " /Users/anovak/projects/cross_sections/endfb-vii.1-hdf5/neutron/Fe58.h5\n",
      " Reading Ni58 from\n",
      " /Users/anovak/projects/cross_sections/endfb-vii.1-hdf5/neutron/Ni58.h5\n",
      " Reading Ni60 from\n",
      " /Users/anovak/projects/cross_sections/endfb-vii.1-hdf5/neutron/Ni60.h5\n",
      " Reading Mn55 from\n",
      " /Users/anovak/projects/cross_sections/endfb-vii.1-hdf5/neutron/Mn55.h5\n",
      " Reading Cr52 from\n",
      " /Users/anovak/projects/cross_sections/endfb-vii.1-hdf5/neutron/Cr52.h5\n",
      " Reading C0 from\n",
      " /Users/anovak/projects/cross_sections/endfb-vii.1-hdf5/neutron/C0.h5\n",
      " Reading Cu63 from\n",
      " /Users/anovak/projects/cross_sections/endfb-vii.1-hdf5/neutron/Cu63.h5\n",
      " Reading c_H_in_H2O from\n",
      " /Users/anovak/projects/cross_sections/endfb-vii.1-hdf5/neutron/c_H_in_H2O.h5\n",
      " Minimum neutron data temperature: 1.7976931348623157e+308 K\n",
      " Maximum neutron data temperature: 0 K\n",
      " Preparing distributed cell instances...\n",
      " Reading plot XML file...\n",
      " Writing summary.h5 file...\n",
      "\n",
      " =================>     STOCHASTIC VOLUME CALCULATION     <=================\n",
      "\n",
      " Running volume calculation 1\n",
      "   Material 1 UOX fuel: 12298626.543209877 +/- 13081.284826898898 cm^3\n",
      "   Material 2 Zircaloy: 4709058.641975309 +/- 8362.593792150406 cm^3\n",
      "   Material 3 Cold borated water: 16617762.345679011 +/- 14911.55102775643 cm^3\n",
      "   Material 4 Hot borated water: 16599151.234567903 +/- 14904.478085100824 cm^3\n",
      "   Material 5 Reactor pressure vessel steel: 13583858.024691358 +/-\n",
      " 13669.20055214447 cm^3\n",
      "   Material 6 Lower radial reflector: 427808.64197530865 +/- 2565.0321879135736\n",
      " cm^3\n",
      "   Material 7 Upper radial reflector / Top plate region: 2164490.7407407407 +/-\n",
      " 5729.24404581647 cm^3\n",
      "   Material 8 Bottom plate region: 4942746.913580246 +/- 8559.253292874513 cm^3\n",
      "   Material 9 Bottom nozzle region: 12046743.827160493 +/- 12961.095354364057\n",
      " cm^3\n",
      "   Material 10 Top nozzle region: 1327870.3703703703 +/- 4502.681732827051 cm^3\n",
      "   Material 11 Top of fuel assemblies: 2215756.1728395065 +/- 5795.485111486737\n",
      " cm^3\n",
      "   Material 12 Bottom of fuel assemblies: 1107978.3950617285 +/-\n",
      " 4116.658168514133 cm^3\n",
      " Elapsed time: 0.680241484 s\n"
     ]
    }
   ],
   "source": [
    "model.calculate_volumes()"
   ]
  }
 ],
 "metadata": {
  "kernelspec": {
   "display_name": "Python 3 (ipykernel)",
   "language": "python",
   "name": "python3"
  },
  "language_info": {
   "codemirror_mode": {
    "name": "ipython",
    "version": 3
   },
   "file_extension": ".py",
   "mimetype": "text/x-python",
   "name": "python",
   "nbconvert_exporter": "python",
   "pygments_lexer": "ipython3",
   "version": "3.11.2"
  }
 },
 "nbformat": 4,
 "nbformat_minor": 5
}
