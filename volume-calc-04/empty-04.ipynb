{
 "cells": [
  {
   "cell_type": "markdown",
   "id": "eaf1887f-cb0b-4a84-96ac-66d40e766a9b",
   "metadata": {},
   "source": [
    "# Stochastic Volume Calculations"
   ]
  },
  {
   "cell_type": "markdown",
   "id": "24321fe3-025c-436b-b705-6ac03ebc22ed",
   "metadata": {},
   "source": [
    "Knowing the volume of different regions in a model can be important for tally normalization, which we will illustrate in a later tutorial. In some cases, you can obtain the volume of a cell analytically, but this is not always possible for more complex regions. For these regions, we can use OpenMC's stochastic volume calculation mode."
   ]
  },
  {
   "cell_type": "code",
   "execution_count": null,
   "id": "8b7f5363-c001-49e7-b12c-fb9e1cd1429e",
   "metadata": {},
   "outputs": [],
   "source": []
  },
  {
   "cell_type": "markdown",
   "id": "109d55cb",
   "metadata": {},
   "source": [
    "We will load a pre-built example in OpenMC to save us a lot of the effort in model building."
   ]
  },
  {
   "cell_type": "code",
   "execution_count": null,
   "id": "6dfa562c-9a92-4f09-8dc0-72a086344468",
   "metadata": {},
   "outputs": [],
   "source": []
  },
  {
   "cell_type": "code",
   "execution_count": null,
   "id": "e0f22927-9760-49d3-b4b6-02f524f33236",
   "metadata": {},
   "outputs": [],
   "source": [
    "model.geometry.root_universe.plot(width=(500, 500), pixels=(500, 500))"
   ]
  },
  {
   "cell_type": "code",
   "execution_count": null,
   "id": "50e677a3-fd5b-4360-b091-c8f0b4fa4a50",
   "metadata": {},
   "outputs": [],
   "source": [
    "model.geometry.root_universe.plot(width=(22, 22), origin=(0, 0, 0), pixels=(500, 500))"
   ]
  },
  {
   "cell_type": "markdown",
   "id": "41c4191f-3059-4d96-9f87-f1d7057ecff6",
   "metadata": {},
   "source": [
    "This model doesn't contain any particularly complex geometry, but there are still regions for which it would be onerous to compute volumes analytically, such as the region between the baffle and barrel (dark green)."
   ]
  },
  {
   "cell_type": "code",
   "execution_count": null,
   "id": "d94bda98-24fc-4ae3-aa5c-21b96a57a01e",
   "metadata": {},
   "outputs": [],
   "source": [
    "model.geometry.root_universe.plot(width=(100, 100), origin=(130, 130, 0), pixels=(500, 500))"
   ]
  },
  {
   "cell_type": "markdown",
   "id": "23643fd8-2471-4dc9-aa7c-14db48ee8d25",
   "metadata": {},
   "source": [
    "Volumes can be computed using a few different domain types: materials, cells, and universes. The number of atoms for different nuclides can be computed as well based on the volumes of materials and their various atom percentages.\n",
    "\n",
    "Volume calculations are performed by randomly selecting locations in a specified bounding box. The number of locations for where a domain item (cell, material, universe) is found indicates how much of the bounding box is occupied by this item.\n",
    "\n",
    "$$ V_{i} = \\frac{N_{i}}{N} V_{box}$$"
   ]
  },
  {
   "cell_type": "markdown",
   "id": "27ccbb4f-a39a-456f-86f3-dd50a254276f",
   "metadata": {},
   "source": [
    "This straightforward method is a relative to one of the most well-known uses of Monte Carlo, [the computation of $\\pi$](https://blogs.sas.com/content/iml/2016/03/14/monte-carlo-estimates-of-pi.html#:~:text=To%20compute%20Monte%20Carlo%20estimates,the%20curve%20is%20%CF%80%20%2F%204.)."
   ]
  },
  {
   "cell_type": "markdown",
   "id": "d3bd184b-df90-4fb4-bfdb-7ff8d9a67124",
   "metadata": {},
   "source": [
    "Let's set up a volume calculation using the materials from this PWR core model. We need to define the bounding box for the volume calculation, which we take to encompass the entire domain."
   ]
  },
  {
   "cell_type": "code",
   "execution_count": null,
   "id": "24f42abe-34c4-4d4e-b8de-0cbd3d5d7088",
   "metadata": {},
   "outputs": [],
   "source": []
  },
  {
   "cell_type": "markdown",
   "id": "3c5f9248",
   "metadata": {},
   "source": [
    "Let's compute the volumes of the different materials in the domain."
   ]
  },
  {
   "cell_type": "code",
   "execution_count": null,
   "id": "f8d71d38-16ae-4252-86b3-0c011a2fc00d",
   "metadata": {},
   "outputs": [],
   "source": []
  },
  {
   "cell_type": "code",
   "execution_count": null,
   "id": "045a37dc-0cdd-4c81-bbdc-ec640b1cef1a",
   "metadata": {},
   "outputs": [],
   "source": []
  },
  {
   "cell_type": "markdown",
   "id": "99b53f1d-3119-4621-a55a-f7d30e0d6a08",
   "metadata": {},
   "source": [
    "Now we apply the volume calculation to the model's settings and we're ready to run!"
   ]
  },
  {
   "cell_type": "code",
   "execution_count": null,
   "id": "9132870d-e2cf-40fa-8ebd-8c693907c9f6",
   "metadata": {},
   "outputs": [],
   "source": []
  },
  {
   "cell_type": "code",
   "execution_count": null,
   "id": "f2d7666a-ce46-4206-ad8b-9064a7f60087",
   "metadata": {},
   "outputs": [],
   "source": []
  },
  {
   "cell_type": "markdown",
   "id": "7619b750",
   "metadata": {},
   "source": [
    "We can see that the volume information was printed to the screen after the solve completes. We can also access this information from an HDF5 file which OpenMC writes. We can directly apply this volume information to the materials in our model, if we want to use it later on for tally normalization."
   ]
  },
  {
   "cell_type": "code",
   "execution_count": null,
   "id": "8dbbedcf-3806-4a00-ab08-f614daed8739",
   "metadata": {},
   "outputs": [],
   "source": []
  },
  {
   "cell_type": "code",
   "execution_count": null,
   "id": "9d9fbea3-7de9-444c-be8c-04893da38c0a",
   "metadata": {},
   "outputs": [],
   "source": []
  },
  {
   "cell_type": "code",
   "execution_count": null,
   "id": "13c89553-b5c2-46d1-a98e-e9fc90ea7535",
   "metadata": {},
   "outputs": [],
   "source": []
  },
  {
   "cell_type": "markdown",
   "id": "80019844-292c-4d61-afc5-d383fead589c",
   "metadata": {},
   "source": [
    "Pretty easy overall! Now we'll look use a different volume calculation to compute volumes according to the different cells in this PWR. In this case, we will set `domains` to all of the cells in the problem."
   ]
  },
  {
   "cell_type": "code",
   "execution_count": null,
   "id": "c67a9fde-c53f-41fc-a503-814afd80b5a3",
   "metadata": {},
   "outputs": [],
   "source": []
  },
  {
   "cell_type": "code",
   "execution_count": null,
   "id": "13335317-e618-441c-a360-c66238262e29",
   "metadata": {
    "scrolled": false
   },
   "outputs": [],
   "source": []
  },
  {
   "cell_type": "code",
   "execution_count": null,
   "id": "882538fc-e351-4431-b776-d327256b6222",
   "metadata": {},
   "outputs": [],
   "source": []
  },
  {
   "cell_type": "markdown",
   "id": "7768f2e5",
   "metadata": {},
   "source": [
    "We can also view the number of atoms of each nuclide in each cell, through a Pandas dataframe."
   ]
  },
  {
   "cell_type": "code",
   "execution_count": null,
   "id": "ff76f606-e13d-43dd-9ba7-1af57be78b8d",
   "metadata": {},
   "outputs": [],
   "source": []
  },
  {
   "cell_type": "markdown",
   "id": "b8232fd4-5e82-438b-87aa-327fae528afd",
   "metadata": {},
   "source": [
    "As we see in the simulation output, there is uncertainty associated with these results. The OpenMC volume calculation is *stochastic*, and is essentially obtained by \"throwing darts\" at the problem. The more samples used, the lower the statistical uncertainty.\n",
    "\n",
    "All OpenMC tallies support triggers, which will continue increasing the number of samples taken until reaching some desired statistical uncertainty. We will also use these features for other tally types in a later tutorial."
   ]
  },
  {
   "cell_type": "code",
   "execution_count": null,
   "id": "7fed574e-8c41-4ad8-a3dc-1ed846aefabf",
   "metadata": {},
   "outputs": [],
   "source": []
  },
  {
   "cell_type": "code",
   "execution_count": null,
   "id": "be8d4d67-3adb-4fee-82f8-2b36b471498a",
   "metadata": {},
   "outputs": [],
   "source": []
  },
  {
   "cell_type": "code",
   "execution_count": null,
   "id": "27e125a5-4fbb-4a3e-b58f-bd7f4cccc4a0",
   "metadata": {},
   "outputs": [],
   "source": []
  }
 ],
 "metadata": {
  "kernelspec": {
   "display_name": "Python 3 (ipykernel)",
   "language": "python",
   "name": "python3"
  },
  "language_info": {
   "codemirror_mode": {
    "name": "ipython",
    "version": 3
   },
   "file_extension": ".py",
   "mimetype": "text/x-python",
   "name": "python",
   "nbconvert_exporter": "python",
   "pygments_lexer": "ipython3",
   "version": "3.11.2"
  }
 },
 "nbformat": 4,
 "nbformat_minor": 5
}
