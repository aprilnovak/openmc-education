{
 "cells": [
  {
   "cell_type": "markdown",
   "metadata": {},
   "source": [
    "# Modeling a Pincell\n",
    "In this lecture, we'll demonstrate the basic features of the Python API for constructing input files and running OpenMC. In it, we will show how to create a basic reflective pincell model that is equivalent to modeling an infinite array of fuel pins in a pressurized water reactor. We highly recommend having a copy of the [Python API reference documentation](https://docs.openmc.org/en/stable/pythonapi/index.html) open in another browser tab that you can refer to.\n",
    "\n",
    "<img src=\"pincell.png\" alt=\"drawing\" width=\"250\"/>"
   ]
  },
  {
   "cell_type": "markdown",
   "metadata": {},
   "source": [
    "For this example, we'll create a simple pincell that is composed of:\n",
    "- UO<sub>2</sub> with 3.5 weight% enriched in U-235 at 11 g/cm<sup>3</sup>\n",
    "- zirconium clad at 6.5 g/cm<sup>3</sup>\n",
    "- H<sub>2</sub>O moderator at 1.0 g/cm<sup>3</sup>\n",
    "\n",
    "The dimensions of our fuel pin will be as follows:\n",
    "- Fuel outer radius = 0.46955 cm\n",
    "- Clad inner radius = 0.47910 cm\n",
    "- Clad outer radius = 0.54640 cm\n",
    "- Fuel pin pitch = 1.44270 cm\n",
    "- Pin height = 300.0 cm"
   ]
  },
  {
   "cell_type": "code",
   "execution_count": null,
   "metadata": {},
   "outputs": [],
   "source": [
    "import openmc\n",
    "import matplotlib.pyplot as plt\n",
    "import numpy as np"
   ]
  },
  {
   "cell_type": "markdown",
   "metadata": {},
   "source": [
    "## Basics of Jupyter Notebook\n",
    "\n",
    "You are working within a Jupyter notebook. Some common commands which will be useful:\n",
    "- To execute a cell: `Shift+Enter`\n",
    "- To insert a cell above or below: `Esc+a`, `Esc+b`"
   ]
  },
  {
   "cell_type": "markdown",
   "metadata": {},
   "source": [
    "## Naming Conventions\n",
    "\n",
    "Before we start working with OpenMC's Python API, it's helpful to understand the naming convention of objects so that you can conceptualize what is a function, what is a class, etc. OpenMC's Python interface follows the same naming convention that is adopted by many/most Python projects:\n",
    "\n",
    "- Module names are `lowercase`\n",
    "- Classes are `CamelCase`\n",
    "- Functions and class attributes/variables are `lowercase_with_underscores`\n",
    "\n",
    "To give a few specific examples:\n",
    "\n",
    "- `openmc.deplete` is the depletion _module_\n",
    "- `openmc.run` is a _function_\n",
    "- `openmc.Material` is a _class_\n",
    "- `openmc.StatePoint` is a _class_"
   ]
  },
  {
   "cell_type": "markdown",
   "metadata": {},
   "source": [
    "## Setting Attributes\n",
    "\n",
    "When building OpenMC models, we will work with many different classes. Each class typically has _attributes_, a variable belonging to the class. When creating a class, you can often set those attributes directly when you instantiate the object, like this:"
   ]
  },
  {
   "cell_type": "code",
   "execution_count": null,
   "metadata": {},
   "outputs": [],
   "source": [
    "my_cell = openmc.Cell(name=\"box\")"
   ]
  },
  {
   "cell_type": "markdown",
   "metadata": {},
   "source": [
    "Or, you can assign values to attributes after you have already created the object. For example, the following is equivalent to the above:"
   ]
  },
  {
   "cell_type": "code",
   "execution_count": null,
   "metadata": {},
   "outputs": [],
   "source": [
    "my_other_cell = openmc.Cell()\n",
    "my_other_cell.name = \"box2\""
   ]
  },
  {
   "cell_type": "markdown",
   "metadata": {},
   "source": [
    "You can generally also mix-and-match, setting some attributes when you instantiate the object, and others at a later point."
   ]
  },
  {
   "cell_type": "code",
   "execution_count": null,
   "metadata": {},
   "outputs": [],
   "source": [
    "new_cell = openmc.Cell(name=\"box3\")\n",
    "new_cell.temperature = 500"
   ]
  },
  {
   "cell_type": "markdown",
   "metadata": {},
   "source": [
    "\n",
    "## How to Get Help/Learn More\n",
    "\n",
    "When building OpenMC models, we recommend having a copy of the Python API documentation (linked earlier) open. You can also query information about classes and methods directly from Jupyter. For example, we can use `help` to get documentation on all of the valid attributes for functions and classes."
   ]
  },
  {
   "cell_type": "code",
   "execution_count": null,
   "metadata": {},
   "outputs": [],
   "source": [
    "help(openmc.Cell)"
   ]
  },
  {
   "cell_type": "markdown",
   "metadata": {},
   "source": [
    "Attributes which have a default value will appear as `<attribute>=<the default value>` in the class/function definition. For example, in the above we see that the default name for a cell is the empty string, `''`.\n",
    "\n",
    "For classes, all of the member functions you can access will then be defined further down, with their associated documentation. To see documentation for just one specific function, you can use syntax like:"
   ]
  },
  {
   "cell_type": "code",
   "execution_count": null,
   "metadata": {},
   "outputs": [],
   "source": [
    "my_cell = openmc.Cell()\n",
    "help(my_cell.clone)"
   ]
  },
  {
   "cell_type": "code",
   "execution_count": null,
   "metadata": {},
   "outputs": [],
   "source": [
    "print(my_cell)"
   ]
  },
  {
   "cell_type": "markdown",
   "metadata": {},
   "source": [
    "In order to quickly see all of the member functions on a class, press `Tab` to perform tab-completion to view a drop-down list on all the options available to you. You can then do `Shift+Tab` to see the documentation for each function inline."
   ]
  },
  {
   "cell_type": "code",
   "execution_count": null,
   "metadata": {},
   "outputs": [],
   "source": [
    "#my_cell."
   ]
  },
  {
   "cell_type": "markdown",
   "metadata": {},
   "source": [
    "## OpenMC Model\n",
    "\n",
    "The OpenMC `Model` class houses all of the pieces of a Monte Carlo simulation. We will assemble our pincell by progressively adding to a model, and then run that model."
   ]
  },
  {
   "cell_type": "code",
   "execution_count": null,
   "metadata": {},
   "outputs": [],
   "source": [
    "model = openmc.Model()"
   ]
  },
  {
   "cell_type": "markdown",
   "metadata": {},
   "source": [
    "### The `cross_sections.xml` file\n",
    "\n",
    "The `cross_sections.xml` tells OpenMC where it can find nuclide cross sections and $S(\\alpha,\\beta)$ tables. Let's have a look at what's inside this file:"
   ]
  },
  {
   "cell_type": "code",
   "execution_count": null,
   "metadata": {},
   "outputs": [],
   "source": [
    "!cat $OPENMC_CROSS_SECTIONS | head -n 10\n",
    "print('    ...')\n",
    "!cat $OPENMC_CROSS_SECTIONS | tail -n 10"
   ]
  },
  {
   "cell_type": "markdown",
   "metadata": {},
   "source": [
    "## Defining Materials\n",
    "\n",
    "Materials in OpenMC are defined as a set of nuclides with specified atom/weight fractions. To begin, we will create a material by making an instance of the `Material` class."
   ]
  },
  {
   "cell_type": "code",
   "execution_count": null,
   "metadata": {},
   "outputs": [],
   "source": [
    "zirconium = openmc.Material(1, \"zirconium\")\n",
    "print(zirconium)"
   ]
  },
  {
   "cell_type": "markdown",
   "metadata": {},
   "source": [
    "The `Material` class has a method `add_element()` whose first argument is the name of the nuclide and second argument is the atom or weight fraction. We see that by default it assumes we want an atom fraction."
   ]
  },
  {
   "cell_type": "code",
   "execution_count": null,
   "metadata": {},
   "outputs": [],
   "source": [
    "#zirconium.add_element"
   ]
  },
  {
   "cell_type": "code",
   "execution_count": null,
   "metadata": {},
   "outputs": [],
   "source": [
    "zirconium.add_element('Zr', 1.0)\n",
    "zirconium.set_density('g/cm3', 6.5)"
   ]
  },
  {
   "cell_type": "code",
   "execution_count": null,
   "metadata": {},
   "outputs": [],
   "source": [
    "print(zirconium)"
   ]
  },
  {
   "cell_type": "markdown",
   "metadata": {},
   "source": [
    "We can see that OpenMC automatically inserted the natural abundances of the zirconium isotopes for us! How convenient! \n",
    "\n",
    "Let's now build our fuel material. For sake of illustration, let's suppose that we had O-16, but not natural oxygen in our fuel. Also note that OpenMC has a convenient feature to set the nuclide concentrations for weight percent enrichments in U-235."
   ]
  },
  {
   "cell_type": "code",
   "execution_count": null,
   "metadata": {},
   "outputs": [],
   "source": [
    "# Add nuclides to uo2\n",
    "uo2 = openmc.Material(name=\"uo2\")\n",
    "uo2.add_element('U', 1.0, enrichment=3.5)\n",
    "uo2.add_nuclide('O16', 2.0)\n",
    "uo2.set_density('g/cm3', 10.0)"
   ]
  },
  {
   "cell_type": "markdown",
   "metadata": {},
   "source": [
    "With UO2 finished, let's now create materials for the coolant."
   ]
  },
  {
   "cell_type": "code",
   "execution_count": null,
   "metadata": {},
   "outputs": [],
   "source": [
    "water = openmc.Material(name=\"water\")\n",
    "water.add_element('H', 2.0)\n",
    "water.add_nuclide('O16', 1.0)\n",
    "water.set_density('g/cm3', 1.0)"
   ]
  },
  {
   "cell_type": "markdown",
   "metadata": {},
   "source": [
    "An astute observer might now point out that this water material we just created will only use free-atom cross sections. We need to tell it to use an $S(\\alpha,\\beta)$ table so that the bound atom cross section is used at thermal energies. To do this, there's an `add_s_alpha_beta()` method."
   ]
  },
  {
   "cell_type": "code",
   "execution_count": null,
   "metadata": {},
   "outputs": [],
   "source": [
    "water.add_s_alpha_beta('c_H_in_H2O')"
   ]
  },
  {
   "cell_type": "markdown",
   "metadata": {},
   "source": [
    "We are done with our materials -- now we just need to register them in our model."
   ]
  },
  {
   "cell_type": "code",
   "execution_count": null,
   "metadata": {},
   "outputs": [],
   "source": [
    "model.materials = openmc.Materials([uo2, zirconium, water])\n",
    "print(model.materials)"
   ]
  },
  {
   "cell_type": "markdown",
   "metadata": {},
   "source": [
    "## Defining Geometry\n",
    "\n",
    "We now need to define the geometry. One way to do so is to use constructive solid geometry (CSG), also known as combinatorial geometry. The object that allows us to assign a material to a region of space is called a `Cell`. There are four stages in building a cell:\n",
    "\n",
    "#### Surfaces\n",
    "In order to define a region that we can assign to a cell, we must first define surfaces which bound the region. A *surface* is a locus of zeros of a function of Cartesian coordinates $x$, $y$, and $z$, e.g.\n",
    "\n",
    "- A plane perpendicular to the x axis: $x - x_0 = 0$\n",
    "- A cylinder parallel to the z axis: $(x - x_0)^2 + (y - y_0)^2 - R^2 = 0$\n",
    "- A sphere: $(x - x_0)^2 + (y - y_0)^2 + (z - z_0)^2 - R^2 = 0$\n",
    "\n",
    "The full [list of available surfaces](https://docs.openmc.org/en/stable/pythonapi/base.html#building-geometry) is as follows.\n",
    "\n",
    "Planes:\n",
    "\n",
    "- `openmc.Plane` — An arbitrary plane of the form $Ax + By + Cz = D$\n",
    "- `openmc.XPlane` — A plane perpendicular to the x axis of the form $x - x_0 = 0$\n",
    "- `openmc.YPlane` — A plane perpendicular to the y axis of the form $y - y_0 = 0$\n",
    "- `openmc.ZPlane` — A plane perpendicular to the z axis of the form $z - z_0 = 0$\n",
    "\n",
    "Quadrics:\n",
    "\n",
    "- `openmc.XCylinder` — An infinite cylinder whose length is parallel to the x-axis of the form $(y - y_0)^2 + (z - z_0)^2 = r^2$\n",
    "- `openmc.YCylinder` — An infinite cylinder whose length is parallel to the x-axis of the form $(x - x_0)^2 + (z - z_0)^2 = r^2$\n",
    "- `openmc.ZCylinder` — An infinite cylinder whose length is parallel to the x-axis of the form $(x - x_0)^2 + (y - y_0)^2 = r^2$\n",
    "- `openmc.Sphere` — A sphere of the form $(x - x_0)^2 + (y - y_0)^2 + (z - z_0)^2 = r^2$\n",
    "- `openmc.XCone` — A cone parallel to the x-axis of the form $(y - y_0)^2 + (z - z_0)^2 = r^2 (x - x_0)^2$\n",
    "- `openmc.YCone` — A cone parallel to the y-axis of the form $(x - x_0)^2 + (z - z_0)^2 = r^2 (y - y_0)^2$\n",
    "- `openmc.ZCone` — A cone parallel to the z-axis of the form $(x - x_0)^2 + (y - y_0)^2 = r^2 (z - z_0)^2$\n",
    "- `openmc.Quadric` — A generic quadric surface\n",
    "\n",
    "Torii:\n",
    "\n",
    "- `openmc.XTorus` — A torus of the form $(x - x_0)^2/B^2 + (\\sqrt{(y - y_0)^2 + (z - z_0)^2} - A)^2/C^2 - 1 = 0$\n",
    "- `openmc.YTorus` — A torus of the form $(y - y_0)^2/B^2 + (\\sqrt{(x - x_0)^2 + (z - z_0)^2} - A)^2/C^2 - 1 = 0$\n",
    "- `openmc.ZTorus` — A torus of the form $(z - z_0)^2/B^2 + (\\sqrt{(x - x_0)^2 + (y - y_0)^2} - A)^2/C^2 - 1 = 0$\n",
    "\n",
    "#### Half-Spaces\n",
    "\n",
    "<img src=\"csg_half.png\" alt=\"drawing\" width=\"600\"/>\n",
    "\n",
    "A surface *half-space* is the region whose points satisfy a positive or negative inequality of the surface equation. For example, for a sphere of radius one centered at the origin, the surface equation is $f(x,y,z) = x^2 + y^2 + z^2 - 1 = 0$. Thus, we say that the negative half-space of the sphere is defined as the collection of points satisfying $f(x,y,z) < 0$, which one can reason is the inside of the sphere. Conversely, the positive half-space of the sphere would correspond to all points outside of the sphere.\n",
    "\n",
    "#### Regions\n",
    "A region is then a combination of (or just one) half-spaces.\n",
    "\n",
    "<img src=\"csg.png\" alt=\"drawing\" width=\"400\"/>\n",
    "\n",
    "#### Fills\n",
    "Finally, a cell is complete once we have defined what is _filling_ the cell, which may be one of:\n",
    "\n",
    "- material\n",
    "- nothing (`None`), or vacuum/void\n",
    "- universe\n",
    "- lattice"
   ]
  },
  {
   "cell_type": "code",
   "execution_count": null,
   "metadata": {},
   "outputs": [],
   "source": [
    "sphere = openmc.Sphere(x0=0, y0=0, z0=0, r=1.0)"
   ]
  },
  {
   "cell_type": "markdown",
   "metadata": {},
   "source": [
    "To get the negative or positive half-space, we simply need to apply the `-` or `+` unary operators, respectively."
   ]
  },
  {
   "cell_type": "code",
   "execution_count": null,
   "metadata": {},
   "outputs": [],
   "source": [
    "inside_sphere = -sphere\n",
    "outside_sphere = +sphere"
   ]
  },
  {
   "cell_type": "markdown",
   "metadata": {},
   "source": [
    "Now let's see if `inside_sphere` actually contains points inside the sphere:"
   ]
  },
  {
   "cell_type": "code",
   "execution_count": null,
   "metadata": {},
   "outputs": [],
   "source": [
    "print((0,0,0) in inside_sphere, (0,0,2) in inside_sphere)\n",
    "print((0,0,0) in outside_sphere, (0,0,2) in outside_sphere)"
   ]
  },
  {
   "cell_type": "markdown",
   "metadata": {},
   "source": [
    "Everything works as expected! Now that we understand how to create half-spaces, we can create more complex volumes by combining half-spaces using Boolean operators: `&` (intersection), `|` (union), and `~` (complement):\n",
    "\n",
    "- `&`: logical AND\n",
    "- `|`: logical OR\n",
    "- `~`: logical NOT\n",
    "\n",
    "For example, let's say we want to define a region that is the top part of the sphere (all points inside the sphere that have $z > 0$."
   ]
  },
  {
   "cell_type": "code",
   "execution_count": null,
   "metadata": {},
   "outputs": [],
   "source": [
    "z_plane = openmc.ZPlane(0)\n",
    "northern_hemisphere = -sphere & +z_plane"
   ]
  },
  {
   "cell_type": "code",
   "execution_count": null,
   "metadata": {},
   "outputs": [],
   "source": [
    "cell = openmc.Cell()\n",
    "cell.region = northern_hemisphere\n",
    "\n",
    "cell.fill = water"
   ]
  },
  {
   "cell_type": "markdown",
   "metadata": {},
   "source": [
    "### Universes and in-line plotting"
   ]
  },
  {
   "cell_type": "markdown",
   "metadata": {},
   "source": [
    "A collection of cells is known as a universe and can be used as a repeatable unit when creating a model. Although we don't need it yet, the benefit of creating a universe is that we can visualize our geometry while we're creating it."
   ]
  },
  {
   "cell_type": "code",
   "execution_count": null,
   "metadata": {},
   "outputs": [],
   "source": [
    "universe = openmc.Universe()\n",
    "universe.add_cell(cell)"
   ]
  },
  {
   "cell_type": "markdown",
   "metadata": {},
   "source": [
    "The `Universe` object has a `plot` method that will display our the universe as current constructed:"
   ]
  },
  {
   "cell_type": "code",
   "execution_count": null,
   "metadata": {},
   "outputs": [],
   "source": [
    "universe.plot(width=(2.0, 2.0), basis='xz')"
   ]
  },
  {
   "cell_type": "markdown",
   "metadata": {},
   "source": [
    "### Boundary Conditions\n",
    "\n",
    "To specify boundary conditions, you simply need to set the `Surface.boundary_type` to one of:\n",
    "\n",
    "- `transmission` (default)\n",
    "- `vacuum`\n",
    "- `reflective`\n",
    "- `periodic` (either rotational or translational)\n",
    "- `white` (isotropic angular flux)\n",
    "\n",
    "<img src=\"mc_bcs.png\" alt=\"drawing\" width=\"600\"/>"
   ]
  },
  {
   "cell_type": "code",
   "execution_count": null,
   "metadata": {},
   "outputs": [],
   "source": [
    "northern_hemisphere.boundary_type = 'vacuum'"
   ]
  },
  {
   "cell_type": "markdown",
   "metadata": {},
   "source": [
    "### Pin cell geometry\n",
    "\n",
    "We now have enough knowledge to create our pin-cell. We need three surfaces to define the fuel and clad:\n",
    "\n",
    "1. The outer surface of the fuel -- a cylinder parallel to the z axis\n",
    "2. The inner surface of the clad -- same as above\n",
    "3. The outer surface of the clad -- same as above\n",
    "\n",
    "These three surfaces will all be instances of `openmc.ZCylinder`, each with a different radius according to the specification."
   ]
  },
  {
   "cell_type": "code",
   "execution_count": null,
   "metadata": {},
   "outputs": [],
   "source": [
    "fuel_outer_radius = openmc.ZCylinder(r=0.46955)\n",
    "clad_inner_radius = openmc.ZCylinder(r=0.47910)\n",
    "clad_outer_radius = openmc.ZCylinder(r=0.54640)"
   ]
  },
  {
   "cell_type": "markdown",
   "metadata": {},
   "source": [
    "With the surfaces created, we can now take advantage of the built-in operators on surfaces to create regions for the fuel, the gap, and the clad:"
   ]
  },
  {
   "cell_type": "code",
   "execution_count": null,
   "metadata": {},
   "outputs": [],
   "source": [
    "fuel_region = -fuel_outer_radius\n",
    "gap_region = +fuel_outer_radius & -clad_inner_radius\n",
    "clad_region = +clad_inner_radius & -clad_outer_radius"
   ]
  },
  {
   "cell_type": "markdown",
   "metadata": {},
   "source": [
    "We will also create two z-planes in order to bound the geometry in the axial direction."
   ]
  },
  {
   "cell_type": "code",
   "execution_count": null,
   "metadata": {},
   "outputs": [],
   "source": [
    "top = openmc.ZPlane(z0=150.0, boundary_type='vacuum')\n",
    "bot = openmc.ZPlane(z0=-150.0, boundary_type='vacuum')\n",
    "layer = +bot & -top"
   ]
  },
  {
   "cell_type": "markdown",
   "metadata": {},
   "source": [
    "Now we can create corresponding cells that assign materials to these regions."
   ]
  },
  {
   "cell_type": "code",
   "execution_count": null,
   "metadata": {},
   "outputs": [],
   "source": [
    "fuel = openmc.Cell()\n",
    "fuel.fill = uo2\n",
    "fuel.region = fuel_region & layer\n",
    "\n",
    "gap = openmc.Cell()\n",
    "gap.region = gap_region & layer\n",
    "gap.fill = None\n",
    "\n",
    "clad = openmc.Cell()\n",
    "clad.fill = zirconium\n",
    "clad.region = clad_region & layer"
   ]
  },
  {
   "cell_type": "markdown",
   "metadata": {},
   "source": [
    "Finally, we need to handle the coolant outside of our fuel pin. To do this, we create x- and y-planes that bound the geometry."
   ]
  },
  {
   "cell_type": "code",
   "execution_count": null,
   "metadata": {},
   "outputs": [],
   "source": [
    "pitch = 1.44270\n",
    "left = openmc.XPlane(-pitch/2, boundary_type='reflective')\n",
    "right = openmc.XPlane(pitch/2, boundary_type='reflective')\n",
    "front = openmc.YPlane(-pitch/2, boundary_type='reflective')\n",
    "back = openmc.YPlane(pitch/2, boundary_type='reflective')"
   ]
  },
  {
   "cell_type": "markdown",
   "metadata": {},
   "source": [
    "The water region is going to be everything outside of the clad outer radius and within the box formed as the intersection of four half-spaces."
   ]
  },
  {
   "cell_type": "code",
   "execution_count": null,
   "metadata": {},
   "outputs": [],
   "source": [
    "water_region = +left & -right & +front & -back & +clad_outer_radius & layer\n",
    "\n",
    "moderator = openmc.Cell()\n",
    "moderator.fill = water\n",
    "moderator.region = water_region"
   ]
  },
  {
   "cell_type": "markdown",
   "metadata": {},
   "source": [
    "The final step is to assign the cells we created to a universe and tell OpenMC that this universe is the \"root\" universe in our geometry."
   ]
  },
  {
   "cell_type": "code",
   "execution_count": null,
   "metadata": {},
   "outputs": [],
   "source": [
    "root_universe = openmc.Universe(cells=(fuel, gap, clad, moderator))\n",
    "model.geometry = openmc.Geometry(root_universe)"
   ]
  },
  {
   "cell_type": "code",
   "execution_count": null,
   "metadata": {},
   "outputs": [],
   "source": [
    "root_universe.plot((0, 0, 0), width=(pitch, pitch), pixels=100000)"
   ]
  },
  {
   "cell_type": "markdown",
   "metadata": {},
   "source": [
    "## Starting source and settings\n",
    "\n",
    "The Python API has a module `openmc.stats` with various univariate and multivariate probability distributions. We can use these distributions to create a starting source using the `openmc.Source` object. One can independently specify the spatial distribution (`space`), the angular distribution (`angle`), the energy distribution (`energy`), and the time distribution (`time`). For this example, we'll only specify the spatial distribution as uniform over the pincell, but only in the fissionable materials."
   ]
  },
  {
   "cell_type": "code",
   "execution_count": null,
   "metadata": {},
   "outputs": [],
   "source": [
    "# Create a uniform source\n",
    "model.settings.source = openmc.IndependentSource(space=openmc.stats.Box(\n",
    "    [-pitch/2, -pitch/2, 0], [pitch/2, pitch/2, 300], only_fissionable=True))"
   ]
  },
  {
   "cell_type": "code",
   "execution_count": null,
   "metadata": {},
   "outputs": [],
   "source": [
    "model.settings.batches = 400\n",
    "model.settings.inactive = 200\n",
    "model.settings.particles = 1000"
   ]
  },
  {
   "cell_type": "markdown",
   "metadata": {},
   "source": [
    "## Running OpenMC\n",
    "\n",
    "Running OpenMC from Python can be done using the `model.run()` function."
   ]
  },
  {
   "cell_type": "code",
   "execution_count": null,
   "metadata": {
    "scrolled": true
   },
   "outputs": [],
   "source": [
    "statepoint = model.run()"
   ]
  },
  {
   "cell_type": "code",
   "execution_count": null,
   "metadata": {},
   "outputs": [],
   "source": [
    "with openmc.StatePoint(statepoint) as sp:\n",
    "  k = sp.keff.nominal_value\n",
    "  k_std_dev = sp.keff.std_dev\n",
    "    \n",
    "print(k)\n",
    "print(k_std_dev)"
   ]
  },
  {
   "cell_type": "markdown",
   "metadata": {},
   "source": [
    "### Running in a loop\n",
    "\n",
    "For several questions on CP3, you're asked to repeatedly run OpenMC using different settings (different number of particles, different dimensions, etc.). This is easy to do in a loop."
   ]
  },
  {
   "cell_type": "code",
   "execution_count": null,
   "metadata": {},
   "outputs": [],
   "source": [
    "particles = [500, 1000, 2000]\n",
    "k_values = []\n",
    "err_values = []\n",
    "for p in particles:\n",
    "    model.settings.particles = p\n",
    "    model.run()\n",
    "    \n",
    "    with openmc.StatePoint(statepoint) as sp:\n",
    "        k_values.append(sp.keff.nominal_value)\n",
    "        err_values.append(sp.keff.std_dev)"
   ]
  },
  {
   "cell_type": "code",
   "execution_count": null,
   "metadata": {},
   "outputs": [],
   "source": [
    "print(particles)\n",
    "print(k_values)\n",
    "plt.errorbar(particles, k_values, yerr=err_values, capsize=10)\n",
    "\n",
    "plt.show()"
   ]
  },
  {
   "cell_type": "markdown",
   "metadata": {},
   "source": [
    "## Tallies\n",
    "\n",
    "In this section, we'll be looking at how to extract custom information from an OpenMC simulation in what is known as a \"tally.\" A tally accumulates statistical information during the simulation about particles when they eneter regions of phase space specified on the tally. The limits of these regions are set by \"filters\" applied to the tally. Scores and nuclides can also be applied to tallies to indicate what type of information is kept about the particle (e.g. reaction types, flux, heat, etc.).\n",
    "\n",
    "Any tally in OpenMC can be described with the following form:\n",
    "\n",
    "$$ \n",
    " X = \\underbrace{\\int d\\mathbf{r} \\int d\\mathbf{\\Omega} \\int\n",
    "    dE}_{\\text{filters}} \\underbrace{f(\\mathbf{r}, \\mathbf{\\Omega},\n",
    "    E)}_{\\text{scores}} \\underbrace{\\psi (\\mathbf{r}, \\mathbf{\\Omega}, E)}_{\\text{angular flux}}\n",
    "$$\n",
    "\n",
    "where filters set the limits of the integrals and the scoring function is convolved with particle information (e.g. reaction type, current material, etc.). For example, if you wanted to calculate the fission reaction rate caused by fast neutrons in cell 3, your tally becomes\n",
    "\n",
    "$$ \n",
    " X = \\int_\\text{cell 3} d\\mathbf{r} \\int_{4\\pi} d\\mathbf{\\Omega} \\int_{1 MeV}^{20 MeV}\n",
    "    dE \\ \\ \\Sigma_f(\\mathbf{r}, \\mathbf{\\Omega},\n",
    "    E) \\psi (\\mathbf{r}, \\mathbf{\\Omega}, E)\n",
    "$$\n",
    "\n",
    "<div class=\"alert alert-block alert-info\">\n",
    "A full list of scores and their meanings can be found <a href=https://docs.openmc.org/en/stable/usersguide/tallies.html#scores >here</a>.\n",
    "</div>"
   ]
  },
  {
   "cell_type": "markdown",
   "metadata": {},
   "source": [
    "### Mesh Tallies\n",
    "\n",
    "Let's plot the power distribution as a function of space using a structured mesh tally."
   ]
  },
  {
   "cell_type": "code",
   "execution_count": null,
   "metadata": {},
   "outputs": [],
   "source": [
    "mesh = openmc.RegularMesh()\n",
    "mesh.lower_left = (-pitch/2, -pitch/2)\n",
    "mesh.upper_right = (pitch/2, pitch/2)\n",
    "mesh.dimension = (50, 50)\n",
    "\n",
    "heat = openmc.Tally()\n",
    "mesh_filter = openmc.MeshFilter(mesh)\n",
    "heat.scores = ['kappa-fission']\n",
    "heat.filters = [mesh_filter]\n",
    "model.tallies = [heat]"
   ]
  },
  {
   "cell_type": "code",
   "execution_count": null,
   "metadata": {},
   "outputs": [],
   "source": [
    "statepoint = model.run()"
   ]
  },
  {
   "cell_type": "code",
   "execution_count": null,
   "metadata": {},
   "outputs": [],
   "source": [
    "with openmc.StatePoint(statepoint) as sp:\n",
    "    mesh_tally_out = sp.get_tally(id=heat.id)\n",
    "    \n",
    "mesh_flux = mesh_tally_out.get_values()\n",
    "mesh_flux = mesh_flux.reshape(mesh.dimension)"
   ]
  },
  {
   "cell_type": "code",
   "execution_count": null,
   "metadata": {},
   "outputs": [],
   "source": [
    "plt.figure()\n",
    "img = plt.imshow(mesh_flux)\n",
    "plt.colorbar(img)"
   ]
  },
  {
   "cell_type": "code",
   "execution_count": null,
   "metadata": {},
   "outputs": [],
   "source": []
  }
 ],
 "metadata": {
  "anaconda-cloud": {},
  "kernelspec": {
   "display_name": "Python 3 (ipykernel)",
   "language": "python",
   "name": "python3"
  },
  "language_info": {
   "codemirror_mode": {
    "name": "ipython",
    "version": 3
   },
   "file_extension": ".py",
   "mimetype": "text/x-python",
   "name": "python",
   "nbconvert_exporter": "python",
   "pygments_lexer": "ipython3",
   "version": "3.11.2"
  }
 },
 "nbformat": 4,
 "nbformat_minor": 4
}
