{
 "cells": [
  {
   "cell_type": "markdown",
   "id": "87d52f49-f915-4ef9-8174-dff4e4abc4c3",
   "metadata": {},
   "source": [
    "# OpenMC Tallies"
   ]
  },
  {
   "cell_type": "markdown",
   "id": "886ae4d1-1a57-4bff-a372-4398de06b25a",
   "metadata": {},
   "source": [
    "In this tutorial, we will learn how to:\n",
    "\n",
    "  - Understand application of filters and scores to create tallies\n",
    "  - Apply tallies to an OpenMC simulation\n",
    "  - Extract information from OpenMC statepoint files\n",
    "  - Understand tally units and normalization\n",
    "  - Plot tally results"
   ]
  },
  {
   "cell_type": "code",
   "execution_count": null,
   "id": "11dc05ba-523c-4379-b293-a7a8e059312a",
   "metadata": {},
   "outputs": [],
   "source": []
  },
  {
   "cell_type": "markdown",
   "id": "42c30480-d8c6-4ccf-b735-f72ca9cbeef1",
   "metadata": {},
   "source": [
    "In this section, we'll be looking at how to extract custom information from an OpenMC simulation in what is known as a \"tally.\" A tally accumulates statistical information during the simulation about particles when they eneter regions of phase space specified on the tally. The limits of these regions are set by \"filters\" applied to the tally. Scores and nuclides can also be applied to tallies to indicate what type of information is kept about the particle (e.g. reaction types, flux, heat, etc.).\n",
    "\n",
    "Any tally in OpenMC can be described with the following form:\n",
    "\n",
    "$$ \n",
    " X = \\underbrace{\\int d\\mathbf{r} \\int d\\mathbf{\\Omega} \\int\n",
    "    dE}_{\\text{filters}} \\underbrace{f(\\mathbf{r}, \\mathbf{\\Omega},\n",
    "    E)}_{\\text{scores}} \\underbrace{\\psi (\\mathbf{r}, \\mathbf{\\Omega}, E)}_{\\text{angular flux}}\n",
    "$$\n",
    "\n",
    "where filters set the limits of the integrals and the scoring function is convolved with particle information (e.g. reaction type, current material, etc.). For example, if you wanted to calculate the fission reaction rate caused by fast neutrons in cell 3, your tally becomes\n",
    "\n",
    "$$ \n",
    " X = \\int_\\text{cell 3} d\\mathbf{r} \\int_{4\\pi} d\\mathbf{\\Omega} \\int_{1 MeV}^{20 MeV}\n",
    "    dE \\ \\ \\Sigma_f(\\mathbf{r}, \\mathbf{\\Omega},\n",
    "    E) \\psi (\\mathbf{r}, \\mathbf{\\Omega}, E)\n",
    "$$\n",
    "\n",
    "<div class=\"alert alert-block alert-info\">\n",
    "A full list of scores and their meanings can be found <a href=https://docs.openmc.org/en/stable/usersguide/tallies.html#scores >here</a>.\n",
    "</div>"
   ]
  },
  {
   "cell_type": "markdown",
   "id": "31f3c102-bbdf-4b64-a7a3-7188aa97333a",
   "metadata": {},
   "source": [
    "## Pincell Model\n",
    "\n",
    "First we'll need a model to examine. OpenMC has a few basic models that we can use to look at tally setup. The function below generates a 2-D PWR pincell model with reflective boundary conditions on the X-Y planes. This function provides an `openmc.Model` object, which ties together materials, geometry, tallies, and settings in a single Python object with a full problem description."
   ]
  },
  {
   "cell_type": "code",
   "execution_count": null,
   "id": "951705d5-4db5-4c27-9595-4b87c31d1fc1",
   "metadata": {},
   "outputs": [],
   "source": []
  },
  {
   "cell_type": "markdown",
   "id": "e189175b-e2d5-46a8-91da-efccbdfcd396",
   "metadata": {},
   "source": [
    "To get a better idea of what this model looks like, we'll start by generating a plot and examining the materials used."
   ]
  },
  {
   "cell_type": "code",
   "execution_count": null,
   "id": "13e90150-a82d-412f-a844-8c21a9c75682",
   "metadata": {},
   "outputs": [],
   "source": []
  },
  {
   "cell_type": "code",
   "execution_count": null,
   "id": "cc51643c-87bc-43d4-a74e-4d864b108473",
   "metadata": {},
   "outputs": [],
   "source": []
  },
  {
   "cell_type": "markdown",
   "id": "da00ed28-db4a-4cd6-b611-d041a4817716",
   "metadata": {},
   "source": [
    "If we look at the tallies object on our pincell model, we'll see there aren't currently any custom tallies applied."
   ]
  },
  {
   "cell_type": "code",
   "execution_count": null,
   "id": "4da56f67-e5cc-4cfe-aec6-3d08dd67a99e",
   "metadata": {},
   "outputs": [],
   "source": []
  },
  {
   "cell_type": "markdown",
   "id": "7b73d0d7-51d6-4c1d-8c44-e4848cc08ab3",
   "metadata": {},
   "source": [
    "In this exercise we'll be adding tallies to perform a few different tasks:\n",
    "\n",
    "\n",
    "  **1. Determine the energy and heat produced per fission** \\\n",
    "  **2. Plot the flux spectrum of the pincell** \\\n",
    "  **3. Plot reaction types based on material**\n",
    "  \n",
    "To do this we'll use a variety of different filters applied to different tallies. \n",
    "\n",
    "<div class=\"alert alert-block alert-info\">\n",
    "A full list of scores and their meanings can be found <a href=https://docs.openmc.org/en/stable/usersguide/tallies.html#scores >here</a>.\n",
    "</div>"
   ]
  },
  {
   "cell_type": "markdown",
   "id": "15966abd-127d-4608-a732-0f5d7ecbcc6e",
   "metadata": {},
   "source": [
    "## Energy released per fission\n",
    "\n",
    "To compute the energy released per fission, we will use two different scores -- the `kappa-fission` score, which tallies the recoverable energy release from fission, and the `fission` score, which tallies the fission rate. The energy released per fission, averaged over all fission events, is simply the `kappa-fission` score divided by the `fission` score.\n",
    "\n",
    "Because we want this information talllied throughout the model, a \"global\" tally, no filters need to be applied."
   ]
  },
  {
   "cell_type": "code",
   "execution_count": null,
   "id": "edfd4a42-4fcf-4191-94ae-00890d0e45b6",
   "metadata": {},
   "outputs": [],
   "source": []
  },
  {
   "cell_type": "code",
   "execution_count": null,
   "id": "418f543a-5705-483a-ac0b-0e66fd76a6cf",
   "metadata": {},
   "outputs": [],
   "source": []
  },
  {
   "cell_type": "markdown",
   "id": "6f7f618b-0406-49be-a6ad-13ed784e05c0",
   "metadata": {},
   "source": [
    "\n",
    "After adjusting the default settings for number of particles and batches on the model we'll run it and examine the data."
   ]
  },
  {
   "cell_type": "code",
   "execution_count": null,
   "id": "ae72a8ed-8680-431d-b51a-3df11d3960aa",
   "metadata": {},
   "outputs": [],
   "source": [
    "model.settings.batches = 50\n",
    "model.settings.inactive = 10\n",
    "model.settings.particles = 10000"
   ]
  },
  {
   "cell_type": "code",
   "execution_count": null,
   "id": "5d1d1b61",
   "metadata": {},
   "outputs": [],
   "source": []
  },
  {
   "cell_type": "markdown",
   "id": "038ed849-0495-4fa4-9f85-51c9683d8526",
   "metadata": {},
   "source": [
    "If we list our current directory, we see that several new files have been created as a result of this run: `summary.h5`, `tallies.out`, and `statepoint.50.h5`. The summary file contains information about the simulation's setup (geometry, materials, meshes, etc.) in an HDF5 format. The `tallies.out` file contains a text output of all user-specified tallies for the simulation."
   ]
  },
  {
   "cell_type": "code",
   "execution_count": null,
   "id": "b4a6d2aa-148c-4217-9682-c56758093d00",
   "metadata": {},
   "outputs": [],
   "source": []
  },
  {
   "cell_type": "markdown",
   "id": "1ff60bff-aeb0-496c-b656-d712c5778045",
   "metadata": {},
   "source": [
    "This can be useful to quickly look at simple tally results, but isn't a great format to post-process simulation data. For that we'll look to the statepoint file. The statepoint file contains information about simulation results including tally specifications and data. The location of this statepoint file was provided to us by the `model.run()` command."
   ]
  },
  {
   "cell_type": "markdown",
   "id": "99eed91b-5e91-4320-8e7a-51c68c28f4a6",
   "metadata": {},
   "source": [
    "To extract information from the statepoint file we'll create an `openmc.StatePoint` object. The `statepoint.get_tally` function will search for tallies by scores, filters, nuclides, ids, and return the closest match. Exact matches can be specified as well."
   ]
  },
  {
   "cell_type": "code",
   "execution_count": null,
   "id": "687cd96d-6035-4f01-b493-e42f0834fff3",
   "metadata": {
    "tags": []
   },
   "outputs": [],
   "source": []
  },
  {
   "cell_type": "markdown",
   "id": "de12a615-a9d1-4917-a80b-c75a1226797f",
   "metadata": {},
   "source": [
    "If we print the tally objects returned, we see that they indeed match the tally specification we generated above."
   ]
  },
  {
   "cell_type": "code",
   "execution_count": null,
   "id": "4338ff09-ac43-4896-bef6-9d0bdee19145",
   "metadata": {},
   "outputs": [],
   "source": []
  },
  {
   "cell_type": "code",
   "execution_count": null,
   "id": "dab472ae",
   "metadata": {},
   "outputs": [],
   "source": []
  },
  {
   "cell_type": "markdown",
   "id": "2e102428-a43f-4dd7-8f27-84abf9f7ea67",
   "metadata": {
    "tags": []
   },
   "source": [
    "<div class=\"alert alert-block alert-info\">\n",
    "<b>A quick aside on how statepoint objects interact with summary files:</b>\n",
    "\n",
    "\n",
    "The `openmc.statepoint` object will read information from the `summary.h5` file if one is present, keeping that file open in the Python interpreter. The open `summary.h5` file can interfere with the initialization of subsequent OpenMC simulations. It is recommended that information be extracted from statepoints within a [context manager](https://book.pythontips.com/en/latest/context_managers.html) as we do here. Alternatively, making sure to call the `openmc.StatePoint.close` method will work also. For more details please look to the [relevant section in the user's guide](https://docs.openmc.org/en/stable/usersguide/troubleshoot.html#runtimeerror-failed-to-open-hdf5-file-with-mode-w-summary-h5).   \n",
    "</div>\n",
    "\n"
   ]
  },
  {
   "cell_type": "markdown",
   "id": "eade3a16-86ce-4717-a0ef-c403e9bce2fe",
   "metadata": {},
   "source": [
    "To compute the energy released per fission event, we can simply take the tallied energy released per fission and divide it by the fission rate."
   ]
  },
  {
   "cell_type": "code",
   "execution_count": null,
   "id": "677fd032",
   "metadata": {},
   "outputs": [],
   "source": []
  },
  {
   "cell_type": "markdown",
   "id": "2dcfdf54",
   "metadata": {},
   "source": [
    "For a water reactor with U235 as the only fissioning isotope this is about what we would expect: ~193 MeV! \n",
    "\n",
    "When dealing with tallies, we must remember that every output of a Monte Carlo simulation is uncertain -- it is associated with a mean and a standard deviation. Whenever you present results from a Monte Carlo simulation, you should ALWAYS present the mean value AND its standard deviation, or else your results are kind of meaningless (and you may be eviscerated!). To obtain the standard deviation associated with our MeV/fission estimation, we can use the Python [uncertainties](https://pythonhosted.org/uncertainties/) module, while also using the `value='std_dev'` option when fetching the tally values to get the standard deviations."
   ]
  },
  {
   "cell_type": "code",
   "execution_count": null,
   "id": "f9863a49",
   "metadata": {},
   "outputs": [],
   "source": []
  },
  {
   "cell_type": "markdown",
   "id": "ccb90061-c037-4fb6-ad1d-25056f679813",
   "metadata": {},
   "source": [
    "As with most values coming out of an MC code, these values are per source-particle. In this case these units cancel out, but this will not be the case in our next example."
   ]
  },
  {
   "cell_type": "markdown",
   "id": "0fa947ba-b916-4f6e-bad1-c2d7e8f72da6",
   "metadata": {},
   "source": [
    "## Plot the neutron flux spectrum\n"
   ]
  },
  {
   "cell_type": "markdown",
   "id": "09db31d5-08c6-49d3-be36-97db7ef98cd1",
   "metadata": {},
   "source": [
    "Plotting a neutron flux spectrum is a very useful way to understand the physical processes happening to neutrons - the energy at which they exist is determined by scattering reactions (to lower energies) as well as their birth distribution (such as from fission or fusion). It is often an engineer's objective to control the energies at which neutrons are predominantly at in their system in order to encourage reactions at different energy spectra.\n",
    "\n",
    "To plot the neutron flux spectrum, we'll be applying a tally with an energy filter and a score. OpenMC's data module contains different group structures. For this problem we'll use the CASMO-70 group structure. An energy filter can easily be created from a pre-defined group structure in OpenMC as follows:"
   ]
  },
  {
   "cell_type": "code",
   "execution_count": null,
   "id": "a9aaae47-c6b5-42e0-8be5-a1fdf84180c2",
   "metadata": {},
   "outputs": [],
   "source": []
  },
  {
   "cell_type": "code",
   "execution_count": null,
   "id": "5f7b3f68-19d6-4928-962a-ce7032a38c14",
   "metadata": {},
   "outputs": [],
   "source": []
  },
  {
   "cell_type": "markdown",
   "id": "190b2aa0-bc1c-499d-a8e0-f9e531a33b8e",
   "metadata": {},
   "source": [
    "Now we'll apply this tally and re-run the problem"
   ]
  },
  {
   "cell_type": "code",
   "execution_count": null,
   "id": "8e8e5be2-3055-4027-9ee2-e9eb19fccaa2",
   "metadata": {},
   "outputs": [],
   "source": []
  },
  {
   "cell_type": "code",
   "execution_count": null,
   "id": "00fb7c45-1e73-44e7-8f3f-0dee18cb381e",
   "metadata": {},
   "outputs": [],
   "source": []
  },
  {
   "cell_type": "code",
   "execution_count": null,
   "id": "0f754d3d-fce3-43d7-bae1-36a3a700962c",
   "metadata": {},
   "outputs": [],
   "source": []
  },
  {
   "cell_type": "code",
   "execution_count": null,
   "id": "2bda9e8e",
   "metadata": {},
   "outputs": [],
   "source": []
  },
  {
   "cell_type": "markdown",
   "id": "b0796bc9-60a9-4499-8765-939fd1376ba3",
   "metadata": {},
   "source": [
    "Now to plot the spectrum, we will plot the neutron flux per unit lethargy (a common way to visualize neutron flux)."
   ]
  },
  {
   "cell_type": "code",
   "execution_count": null,
   "id": "90a02970-3251-4713-a3ff-85cd14a71c8e",
   "metadata": {},
   "outputs": [],
   "source": [
    "import matplotlib.pyplot as plt\n",
    "import numpy as np\n",
    "\n"
   ]
  },
  {
   "cell_type": "code",
   "execution_count": null,
   "id": "391dfc59",
   "metadata": {},
   "outputs": [],
   "source": []
  },
  {
   "cell_type": "code",
   "execution_count": null,
   "id": "fefb9e46",
   "metadata": {},
   "outputs": [],
   "source": [
    "\n",
    "plt.xscale('log')\n",
    "plt.xlabel('Energy (eV)')\n",
    "plt.ylabel('Flux per unit lethargy')\n",
    "plt.show()"
   ]
  },
  {
   "cell_type": "markdown",
   "id": "79d7963e-cc07-4df4-8299-0871f327da9f",
   "metadata": {},
   "source": [
    "## Normalizing Tallies"
   ]
  },
  {
   "cell_type": "markdown",
   "id": "c2283976-8e63-4f88-a65c-40c8a041db47",
   "metadata": {},
   "source": [
    "Note that the units of flux in the above plot are in $\\frac{particle-cm}{source-particle}$. As is the case with many values tallied by Monte Carlo codes, the value of the flux does not account for volume and is in terms of the number of source particles emitted. To generate this same plot in terms of absolute flux units ($\\frac{particle}{cm^{2}-s}$) we'll need to normalize this tally by:\n",
    "\n",
    "  - the volume of the region the tally covers\n",
    "  - the number of source particle emitted\n",
    "\n",
    "In this case, the volume of the region is the volume of the entire pincell. Because we're working with a 2-D model, we'll get units that give us the flux per unit length of the pincell in the axial direction. For simplicity, we'll assume that our pincell is 1 cm in height to make life easier. OpenMC's geometry object allows for computation of a bounding box for geometries like this that will help make this more straight forward."
   ]
  },
  {
   "cell_type": "markdown",
   "id": "c2eaf5e3",
   "metadata": {},
   "source": [
    "In order to obtain the volumes of the cells, we can use a stochastic volume calculation. Or, in this case, we can obtain the volumes from a bounding box of the geometry."
   ]
  },
  {
   "cell_type": "code",
   "execution_count": null,
   "id": "db2002fd-7734-4b10-b2e7-bcf26c29805b",
   "metadata": {},
   "outputs": [],
   "source": []
  },
  {
   "cell_type": "code",
   "execution_count": null,
   "id": "be6b78c4",
   "metadata": {},
   "outputs": [],
   "source": []
  },
  {
   "cell_type": "markdown",
   "id": "6de0b475-9fb5-42da-987c-f13c7182f1e6",
   "metadata": {},
   "source": [
    "Determining the number of source particles per second is more complicated, however. This means computing the eV/source particle due to fission. To get the source rate, we'll need the following pieces of information:\n",
    "\n",
    "  1. the total power produced in the tally region (known a priori)\n",
    "  2. the heat produced by fission power, per source particle\n",
    "  \n",
    " To get this information we'll need to construct another tally to get additional information from the simulation."
   ]
  },
  {
   "cell_type": "code",
   "execution_count": null,
   "id": "38246dd3-b34a-4058-a516-ea25f502169f",
   "metadata": {},
   "outputs": [],
   "source": []
  },
  {
   "cell_type": "code",
   "execution_count": null,
   "id": "cec60994-b188-4fc4-9a3d-3b4a3f208e28",
   "metadata": {},
   "outputs": [],
   "source": []
  },
  {
   "cell_type": "code",
   "execution_count": null,
   "id": "cba5a3fc-1941-49bb-9c35-8a314d114bad",
   "metadata": {},
   "outputs": [],
   "source": []
  },
  {
   "cell_type": "markdown",
   "id": "d625313e-f4e7-41d9-a07e-795e57f47686",
   "metadata": {},
   "source": [
    "The combination of the following tally values and power provide us with the source normalization needed as follows:\n",
    "\n",
    "\n",
    "$$ \\text{neutron source} [\\frac{n}{s}] = \\text{power} [\\frac{J}{s}] \\times \\frac{1}{1.6\\times 10^{-19}} [\\frac{eV}{J}] \\times \\frac{1}{\\text{heat per fission} [\\frac{eV}{source}]} $$ "
   ]
  },
  {
   "cell_type": "code",
   "execution_count": null,
   "id": "b90636e8-b154-4ba9-98f9-08c644077920",
   "metadata": {},
   "outputs": [],
   "source": []
  },
  {
   "cell_type": "markdown",
   "id": "394d3cf1-d913-4b84-a9be-30319916b5ef",
   "metadata": {},
   "source": [
    "We can now use this information to normalize our flux values and reproduce our plot in more standard units."
   ]
  },
  {
   "cell_type": "code",
   "execution_count": null,
   "id": "b55565bb-736e-4f98-a4dc-5accedba6ca8",
   "metadata": {},
   "outputs": [],
   "source": []
  },
  {
   "cell_type": "code",
   "execution_count": null,
   "id": "408bf824-47ef-4413-b2b8-778615cc75f6",
   "metadata": {},
   "outputs": [],
   "source": [
    "\n",
    "plt.xscale('log')\n",
    "plt.xlabel('Energy (eV)')\n",
    "plt.ylabel('Flux per unit lethargy')\n",
    "plt.show()"
   ]
  },
  {
   "cell_type": "markdown",
   "id": "00c2f4af-3370-4f4d-9d1b-4b7278bc55e0",
   "metadata": {},
   "source": [
    "## Reaction Types by Material"
   ]
  },
  {
   "cell_type": "markdown",
   "id": "2889624c-c7bb-4224-b2cb-e13204da10f1",
   "metadata": {},
   "source": [
    "Looking at the different reaction types by material will require a material filter and the set of reaction types we want to score. For this example, we'll be scoring absorption, scattering and fission in each material. To start, we'll create a material filter."
   ]
  },
  {
   "cell_type": "code",
   "execution_count": null,
   "id": "b270ef21-84d1-4ec7-9b7e-f83ae1813687",
   "metadata": {},
   "outputs": [],
   "source": []
  },
  {
   "cell_type": "code",
   "execution_count": null,
   "id": "7a8b416a-4183-4266-880a-fb32f85d6508",
   "metadata": {},
   "outputs": [],
   "source": []
  },
  {
   "cell_type": "code",
   "execution_count": null,
   "id": "e7a1e5b4-1851-4042-80da-cfbd7df66dca",
   "metadata": {},
   "outputs": [],
   "source": []
  },
  {
   "cell_type": "code",
   "execution_count": null,
   "id": "15c27cc5-0dd8-48d9-8115-08f57c4447c0",
   "metadata": {},
   "outputs": [],
   "source": []
  },
  {
   "cell_type": "code",
   "execution_count": null,
   "id": "49b068fc-9bdc-4bdc-9567-5f55ec16bf7d",
   "metadata": {},
   "outputs": [],
   "source": []
  },
  {
   "cell_type": "markdown",
   "id": "a26a49e4-8d30-4362-b897-6c6263e5592a",
   "metadata": {},
   "source": [
    "Now we'll gather information from the statepoint file about each score we applied to the tally. With multiple scores and materials, we'll use a Pandas data frame to view the results in a more coherent manner."
   ]
  },
  {
   "cell_type": "code",
   "execution_count": null,
   "id": "a191ffb7-5349-4522-bc0f-8a6405295606",
   "metadata": {},
   "outputs": [],
   "source": []
  },
  {
   "cell_type": "markdown",
   "id": "0fa5d495-d3ac-46bf-aabe-2aa5c6ac72c7",
   "metadata": {},
   "source": [
    "Each score has three values -- one for each material in the model."
   ]
  },
  {
   "cell_type": "code",
   "execution_count": null,
   "id": "7c1ebec5-aa76-484c-9470-c06018eb2b07",
   "metadata": {},
   "outputs": [],
   "source": []
  },
  {
   "cell_type": "markdown",
   "id": "44e26c58-107f-4a37-a170-534a410459aa",
   "metadata": {},
   "source": [
    "First, we'll add a new column to the data frame with normalized results."
   ]
  },
  {
   "cell_type": "code",
   "execution_count": null,
   "id": "06f78164-f9c4-41f4-8070-535656e0f66e",
   "metadata": {},
   "outputs": [],
   "source": []
  },
  {
   "cell_type": "markdown",
   "id": "4104a62e-7039-4acb-b6d9-19513611ed23",
   "metadata": {},
   "source": [
    "We'll add a new entry in the dataframe for our material names to make plotting easier."
   ]
  },
  {
   "cell_type": "code",
   "execution_count": null,
   "id": "65f57455-efee-4fc5-b8af-67b4c6ebff89",
   "metadata": {},
   "outputs": [],
   "source": []
  },
  {
   "cell_type": "code",
   "execution_count": null,
   "id": "88ed5b3f",
   "metadata": {},
   "outputs": [],
   "source": []
  },
  {
   "cell_type": "code",
   "execution_count": null,
   "id": "80b6655d-c5a9-4104-8c9c-6539a883ccbd",
   "metadata": {},
   "outputs": [],
   "source": []
  },
  {
   "cell_type": "code",
   "execution_count": null,
   "id": "83127c2a-3fcd-480c-9868-895124159238",
   "metadata": {},
   "outputs": [],
   "source": []
  },
  {
   "cell_type": "code",
   "execution_count": null,
   "id": "93ce1de1-f9d2-4df9-882a-e25181dea02a",
   "metadata": {},
   "outputs": [],
   "source": []
  }
 ],
 "metadata": {
  "kernelspec": {
   "display_name": "Python 3 (ipykernel)",
   "language": "python",
   "name": "python3"
  },
  "language_info": {
   "codemirror_mode": {
    "name": "ipython",
    "version": 3
   },
   "file_extension": ".py",
   "mimetype": "text/x-python",
   "name": "python",
   "nbconvert_exporter": "python",
   "pygments_lexer": "ipython3",
   "version": "3.11.2"
  }
 },
 "nbformat": 4,
 "nbformat_minor": 5
}
