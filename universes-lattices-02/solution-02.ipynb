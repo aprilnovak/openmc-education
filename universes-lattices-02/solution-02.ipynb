{
 "cells": [
  {
   "cell_type": "markdown",
   "metadata": {},
   "source": [
    "# Universes\n",
    "\n",
    "A universe is a collection of cells that can be used as a repeatable unit in the geometry. At a minimum, there must be one \"root\" universe, which gets passed to `openmc.Geometry(root)`. But you can also use universes to repeat a collection of cells multiple times throughout a geometry. Here, we will explore some basic features of universes.\n",
    "\n",
    "We'll start by making a universe which looks similar to the pincell we built earlier - say, a square of UO2 enclosed by an infinite region of water. First, we set up our materials and create our geometry."
   ]
  },
  {
   "cell_type": "code",
   "execution_count": null,
   "metadata": {},
   "outputs": [],
   "source": [
    "import openmc"
   ]
  },
  {
   "cell_type": "code",
   "execution_count": null,
   "metadata": {},
   "outputs": [],
   "source": [
    "model = openmc.Model()\n",
    "\n",
    "uo2 = openmc.Material()\n",
    "uo2.add_element('U', 1.0, enrichment=4.0)\n",
    "uo2.add_element('O', 2.0)\n",
    "uo2.set_density('g/cc', 11.0)\n",
    "\n",
    "water = openmc.Material()\n",
    "water.add_element('H', 2.0)\n",
    "water.add_element('O', 1.0)\n",
    "water.set_density('g/cc', 1.0)\n",
    "\n",
    "l = openmc.XPlane(x0 = -1)\n",
    "r = openmc.XPlane(x0 = 1)\n",
    "b = openmc.YPlane(y0 = -1)\n",
    "t = openmc.YPlane(y0 = 1)\n",
    "inside_pin = +l & -r & +b & -t\n",
    "\n",
    "pin_cell = openmc.Cell(region=inside_pin, fill=uo2)\n",
    "outside_cell = openmc.Cell(region=~inside_pin, fill=water)\n",
    "\n",
    "universe = openmc.Universe()\n",
    "universe.add_cells([pin_cell, outside_cell])"
   ]
  },
  {
   "cell_type": "markdown",
   "metadata": {},
   "source": [
    "Let's plot our universe to confirm we know what we've built. Note that because the `region` for `outside_cell` is simply all of the space not inside the pin, the water extends to infinity."
   ]
  },
  {
   "cell_type": "code",
   "execution_count": null,
   "metadata": {},
   "outputs": [],
   "source": [
    "universe.plot(width=(3, 3))"
   ]
  },
  {
   "cell_type": "code",
   "execution_count": null,
   "metadata": {},
   "outputs": [],
   "source": [
    "universe.plot(width=(10, 10))"
   ]
  },
  {
   "cell_type": "markdown",
   "metadata": {},
   "source": [
    "Now let's suppose that I want to fill this universe into an enclosing cell, a cylinder of radius 5 cm. Let's first create this cylinder, and then we will fill it with our universe."
   ]
  },
  {
   "cell_type": "code",
   "execution_count": null,
   "metadata": {},
   "outputs": [],
   "source": [
    "big_cylinder = openmc.ZCylinder(x0=0.0, y0=0.0,r=5.0)\n",
    "big_cell = openmc.Cell()\n",
    "big_cell.region = -big_cylinder\n",
    "big_cell.fill = universe"
   ]
  },
  {
   "cell_type": "code",
   "execution_count": null,
   "metadata": {},
   "outputs": [],
   "source": [
    "big_universe = openmc.Universe(cells=[big_cell])\n",
    "big_universe.plot(width=(10.0, 10.0))"
   ]
  },
  {
   "cell_type": "markdown",
   "metadata": {},
   "source": [
    "We can see that our `big_cell`, the large cylinder, has been filled with the universe we declared earlier. Let's increase the complexity a bit to understand how this filling works. What if the filled universe is not located at the origin, but is instead shifted to a different position?"
   ]
  },
  {
   "cell_type": "code",
   "execution_count": null,
   "metadata": {},
   "outputs": [],
   "source": [
    "l.x0 -= 1\n",
    "r.x0 -= 1\n",
    "b.y0 -= 1\n",
    "t.y0 -= 1\n",
    "\n",
    "big_universe.plot(width=(10.0, 10.0))"
   ]
  },
  {
   "cell_type": "markdown",
   "metadata": {},
   "source": [
    "We see that when we fill a universe inside of another cell, that there's (by default) no transformation of coordinates. It's as if we are directly underlaying the filled universe into a \"higher-up\" cell. You can shift the position of the universe filling a cell with the `Cell.translation` attribute. "
   ]
  },
  {
   "cell_type": "code",
   "execution_count": null,
   "metadata": {},
   "outputs": [],
   "source": [
    "big_cell.translation = [-1.0, 0.0, 0.0]\n",
    "big_universe.plot(width=(10.0, 10.0))"
   ]
  },
  {
   "cell_type": "markdown",
   "metadata": {},
   "source": [
    "There are similar adjustments you can make, like rotations. The `Cell.rotation` method lists the rotation angles (in degrees) for rotations about the x, y, and z axes."
   ]
  },
  {
   "cell_type": "code",
   "execution_count": null,
   "metadata": {},
   "outputs": [],
   "source": [
    "big_cell.rotation = [0, 0, -45]\n",
    "big_cell.plot(width=(10.0, 10.0))"
   ]
  },
  {
   "cell_type": "markdown",
   "metadata": {},
   "source": [
    "# Lattices\n",
    "\n",
    "Lattices are a convenient way to (i) repeat a universe multiple times in space, while (ii) automatically translating that universe's origin to different positions in space. \n",
    "\n",
    "In this section, we will build one of the assemblies from the BEAVRS benchmark. This is a Pressurized Water Reactor (PWR) assembly with fuel pins, guide tubes, and borosilicate glass burnable poisons. A diagram of the assembly is plotted below.\n",
    "\n",
    "<img src=\"assembly_diagram.png\" alt=\"drawing\" width=\"350\"/>\n",
    "\n",
    "In order to build this geometry, we will need to define four universes -- one for a fuel pin (the lilac square with nothing indicated in them), one for a poison pin (B), one for an instrumentation pin (I), and one for a guide tube (G). \n",
    "\n",
    "Before we can discuss lattices, we need to build the materials, cells, and universes for each of these."
   ]
  },
  {
   "cell_type": "markdown",
   "metadata": {},
   "source": [
    "### Fuel pin universe\n",
    "\n",
    "To build our fuel pin universe, we will require three materials. Note that we treat the helium gap as vacuum by setting `fill=None`."
   ]
  },
  {
   "cell_type": "code",
   "execution_count": null,
   "metadata": {},
   "outputs": [],
   "source": [
    "uo2 = openmc.Material(name='uo2')\n",
    "uo2.add_element('U', 1.0, enrichment=3.0)\n",
    "uo2.add_nuclide('O16', 2.0)\n",
    "uo2.set_density('g/cm3', 10.0)\n",
    "\n",
    "zirconium = openmc.Material(name='zirconium')\n",
    "zirconium.add_element('Zr', 1.0)\n",
    "zirconium.set_density('g/cm3', 6.6)\n",
    "\n",
    "water = openmc.Material(name='water')\n",
    "water.add_nuclide('H1', 2)\n",
    "water.add_nuclide('O16', 1)\n",
    "water.set_density('g/cm3', 0.7)\n",
    "water.add_s_alpha_beta('c_H_in_H2O')"
   ]
  },
  {
   "cell_type": "code",
   "execution_count": null,
   "metadata": {},
   "outputs": [],
   "source": [
    "pitch = 1.26\n",
    "fuel_or = openmc.ZCylinder(r=0.39)\n",
    "clad_ir = openmc.ZCylinder(r=0.40)\n",
    "clad_or = openmc.ZCylinder(r=0.46)\n",
    "\n",
    "fuel = openmc.Cell(fill=uo2, region=-fuel_or)\n",
    "gap = openmc.Cell(fill=None, region=+fuel_or & -clad_ir)\n",
    "clad = openmc.Cell(fill=zirconium, region=+clad_ir & -clad_or)\n",
    "moderator = openmc.Cell(fill=water, region=+clad_or)\n",
    "\n",
    "fuel_pin = openmc.Universe(cells=(fuel, gap, clad, moderator))"
   ]
  },
  {
   "cell_type": "markdown",
   "metadata": {},
   "source": [
    "When building a complex geometry, it is helpful to plot each universe as you go along. Let's plot this pincell now. "
   ]
  },
  {
   "cell_type": "code",
   "execution_count": null,
   "metadata": {},
   "outputs": [],
   "source": [
    "fuel_pin.plot(width=(pitch, pitch))"
   ]
  },
  {
   "cell_type": "markdown",
   "metadata": {},
   "source": [
    "By default, OpenMC will select a random color for each material when plotting; instead, we can specify some custom values if we like."
   ]
  },
  {
   "cell_type": "code",
   "execution_count": null,
   "metadata": {},
   "outputs": [],
   "source": [
    "colors = {\n",
    "    water: 'lightblue',\n",
    "    zirconium: 'gray',\n",
    "    uo2: 'red'\n",
    "}"
   ]
  },
  {
   "cell_type": "code",
   "execution_count": null,
   "metadata": {},
   "outputs": [],
   "source": [
    "fuel_pin.plot(width=(pitch, pitch), color_by='material', colors=colors)"
   ]
  },
  {
   "cell_type": "markdown",
   "metadata": {},
   "source": [
    "### Guide tube universe\n",
    "A guide tube is an annulus of zirconium within which water flows. These tubes are used to receive control rods."
   ]
  },
  {
   "cell_type": "code",
   "execution_count": null,
   "metadata": {},
   "outputs": [],
   "source": [
    "guide_clad_ir = openmc.ZCylinder(r=0.56)\n",
    "guide_clad_or = openmc.ZCylinder(r=0.60)\n",
    "\n",
    "guide_inner = openmc.Cell(fill=water, region=-guide_clad_ir)\n",
    "guide_clad = openmc.Cell(fill=zirconium, region=+guide_clad_ir & -guide_clad_or)\n",
    "guide_outer = openmc.Cell(fill=water, region=+guide_clad_or)\n",
    "\n",
    "guide_tube = openmc.Universe(cells=(guide_inner, guide_clad, guide_outer))"
   ]
  },
  {
   "cell_type": "code",
   "execution_count": null,
   "metadata": {},
   "outputs": [],
   "source": [
    "guide_tube.plot(width=(pitch, pitch), color_by='material', colors=colors)\n"
   ]
  },
  {
   "cell_type": "markdown",
   "metadata": {},
   "source": [
    "### Pyrex burnable poison universe\n",
    "The burnable absorber universe is a series of annular cylinders enclosing an annular pyrex layer. The geometry is defined as follows:\n",
    "\n",
    "- R < 0.21 cm, void\n",
    "- 0.21 cm < R < 0.23 cm, zirconium\n",
    "- 0.23 cm < R < 0.24 cm, void\n",
    "- 0.24 cm < R < 0.43 cm, pyrex\n",
    "- 0.43 cm < R < 0.44 cm, void\n",
    "- 0.44 cm < R < 0.48 cm, zirconium\n",
    "- 0.48 cm < R < 0.56 cm, water\n",
    "- 0.56 cm < R < 0.60 cm, zirconium\n",
    "- 0.60 cm < R, water"
   ]
  },
  {
   "cell_type": "code",
   "execution_count": null,
   "metadata": {},
   "outputs": [],
   "source": [
    "pyrex = openmc.Material(name='pyrex')\n",
    "pyrex.add_element('B', 0.49)\n",
    "pyrex.add_element('O', 4.7)\n",
    "pyrex.add_element('Al', 0.17)\n",
    "pyrex.add_element('Si', 1.8)\n",
    "pyrex.set_density('g/cm3', 2.26)"
   ]
  },
  {
   "cell_type": "code",
   "execution_count": null,
   "metadata": {},
   "outputs": [],
   "source": [
    "colors[pyrex] = 'green'"
   ]
  },
  {
   "cell_type": "markdown",
   "metadata": {},
   "source": [
    "To create the geometry, we're going to use some advanced features. First, we'll use a [list comprehension](https://docs.python.org/3/tutorial/datastructures.html#list-comprehensions), which is a way of creating a list in Python that embeds a for loop."
   ]
  },
  {
   "cell_type": "code",
   "execution_count": null,
   "metadata": {},
   "outputs": [],
   "source": [
    "radii = [0.21, 0.23, 0.24, 0.43, 0.44, 0.48, 0.56, 0.60]\n",
    "cyls = [openmc.ZCylinder(r=r) for r in radii]"
   ]
  },
  {
   "cell_type": "markdown",
   "metadata": {},
   "source": [
    "To create this pin, we're going to use a function provided by OpenMC specifically for this purpose, [`openmc.model.pin`](https://docs.openmc.org/en/stable/pythonapi/model.html)."
   ]
  },
  {
   "cell_type": "code",
   "execution_count": null,
   "metadata": {},
   "outputs": [],
   "source": [
    "mats = [None, zirconium, None, pyrex, None, zirconium, water, zirconium, water]\n",
    "burn = openmc.model.pin(cyls, mats)"
   ]
  },
  {
   "cell_type": "code",
   "execution_count": null,
   "metadata": {},
   "outputs": [],
   "source": [
    "burn.plot(width=(pitch, pitch), color_by='material', colors=colors)"
   ]
  },
  {
   "cell_type": "markdown",
   "metadata": {},
   "source": [
    "## Lattices in OpenMC\n",
    "\n",
    "OpenMC has `RectLattice` and `HexLattice` objects, to place universes within a rectangular or hexagonal lattice, respectively. For our fuel assembly, we need to use RectLattice. \n",
    "\n",
    "When creating a rectangular lattice, we need to define:\n",
    "\n",
    "- The lower-left coordinates of the lattice (`.lower_left`)\n",
    "- The size of each lattice element (`.pitch`)\n",
    "- The 2D arrangement of universes (`.universes`)\n",
    "- (optionally) A universe that is used outside of the defined region (`.outer`)"
   ]
  },
  {
   "cell_type": "code",
   "execution_count": null,
   "metadata": {},
   "outputs": [],
   "source": [
    "lattice = openmc.RectLattice()\n",
    "\n",
    "# Define the lower-left coordinates and size of lattice elements\n",
    "lattice.lower_left = (0., 0.)\n",
    "lattice.pitch = (pitch, pitch)\n",
    "\n",
    "# Now we specify what is actually inside the lattice.  This 2D lattice will be a\n",
    "# list of lists like\n",
    "# lattice.universes = [ [a1, a2, ...], [b1, b2, ...], ...]\n",
    "# The inner lists specify columns from left to right.  The outer lists specify\n",
    "# rows from top to bottom.\n",
    "lattice.universes = [\n",
    "    [fuel_pin,   fuel_pin],\n",
    "    [guide_tube, fuel_pin]\n",
    "]"
   ]
  },
  {
   "cell_type": "code",
   "execution_count": null,
   "metadata": {},
   "outputs": [],
   "source": [
    "example_univ = openmc.Universe(cells=[openmc.Cell(fill=lattice)])\n",
    "example_univ.plot(width=(2*pitch, 2*pitch), origin=(pitch, pitch, 0))"
   ]
  },
  {
   "cell_type": "markdown",
   "metadata": {},
   "source": [
    "By default, the extent of a lattice only covers the actual lattice \"slots.\" If we try to plot our geometry but with a wider width (so that we are including regions of space outside our 2x2 lattice), OpenMC will throw an error."
   ]
  },
  {
   "cell_type": "code",
   "execution_count": null,
   "metadata": {},
   "outputs": [],
   "source": [
    "#example_univ.plot(width=(3*pitch, 3*pitch), origin=(pitch, pitch, 0))"
   ]
  },
  {
   "cell_type": "markdown",
   "metadata": {},
   "source": [
    "If we ever want to plot or have neutrons track through regions outside the lattice, but which are not also \"chopped off\" by some containing cell, we can specify the `.outer` parameter for the lattice. As an example, let's set the outer universe to an infinite universe of water."
   ]
  },
  {
   "cell_type": "code",
   "execution_count": null,
   "metadata": {},
   "outputs": [],
   "source": [
    "all_water = openmc.Universe()\n",
    "all_water.add_cell(openmc.Cell(fill=water))\n",
    "lattice.outer = all_water"
   ]
  },
  {
   "cell_type": "code",
   "execution_count": null,
   "metadata": {},
   "outputs": [],
   "source": [
    "example_univ.plot(width=(3*pitch, 3*pitch), origin=(pitch, pitch, 0), color_by='material', colors=colors)"
   ]
  },
  {
   "cell_type": "markdown",
   "metadata": {},
   "source": [
    "## What exactly does `outer` mean?\n",
    "\n",
    "To get a better sense of what the outer universe does, let's change the outer universe to the burnable poision universe:"
   ]
  },
  {
   "cell_type": "code",
   "execution_count": null,
   "metadata": {},
   "outputs": [],
   "source": [
    "lattice.outer = burn"
   ]
  },
  {
   "cell_type": "code",
   "execution_count": null,
   "metadata": {},
   "outputs": [],
   "source": [
    "example_univ.plot(width=(3*pitch, 3*pitch), origin=(pitch, pitch, 0), color_by='material', colors=colors)"
   ]
  },
  {
   "cell_type": "code",
   "execution_count": null,
   "metadata": {},
   "outputs": [],
   "source": [
    "example_univ.plot(width=(10*pitch, 10*pitch), origin=(pitch, pitch, 0), color_by='material', colors=colors)"
   ]
  },
  {
   "cell_type": "markdown",
   "metadata": {},
   "source": [
    "# The BEAVRS Assembly\n",
    "\n",
    "<img src=\"assembly_diagram.png\" alt=\"drawing\" width=\"350\"/>\n",
    "\n",
    "To make things a little easier, we'll create lists of (row, column) positions for the guide tubes and burnable poison rods:"
   ]
  },
  {
   "cell_type": "code",
   "execution_count": null,
   "metadata": {},
   "outputs": [],
   "source": [
    "guide_tube_positions = [\n",
    "    (2, 5), (2, 8), (2, 11),\n",
    "    (5, 2), (5, 5), (5, 8), (5, 11), (5, 14),\n",
    "    (8, 2), (8, 5), (8, 8), (8, 11), (8, 14),\n",
    "    (11, 2), (11, 5), (11, 8), (11, 11), (11, 14),\n",
    "    (14, 5), (14, 8), (14, 11)\n",
    "]\n",
    "\n",
    "burn_positions = [(3, 3), (3, 13), (13, 3), (13, 13)] "
   ]
  },
  {
   "cell_type": "code",
   "execution_count": null,
   "metadata": {},
   "outputs": [],
   "source": [
    "lattice = openmc.RectLattice()\n",
    "\n",
    "lattice.pitch = (pitch, pitch)\n",
    "lattice.outer = all_water\n",
    "\n",
    "assembly_pitch = 17*pitch\n",
    "lattice.lower_left = (-assembly_pitch/2, -assembly_pitch/2)\n",
    "\n",
    "lattice.universes = [[fuel_pin] * 17] * 17\n",
    "\n",
    "# Replace the fuel pins with guide tubes in appropriate places\n",
    "for row, col in guide_tube_positions:\n",
    "    lattice.universes[row, col] = guide_tube\n",
    "    \n",
    "# Replace the fuel pins with burnable absorber pins in appropriate places\n",
    "for row, col in burn_positions:\n",
    "    lattice.universes[row, col] = burn"
   ]
  },
  {
   "cell_type": "markdown",
   "metadata": {},
   "source": [
    "Now we just have to add the boundary conditions and root universe to finish the geometry. Because each of our cells we used in constructing the lattice uses `transmission` boundary conditions (the default), we need to place the lattice inside some other containing cell, which has boundary conditions."
   ]
  },
  {
   "cell_type": "code",
   "execution_count": null,
   "metadata": {},
   "outputs": [],
   "source": [
    "l = openmc.XPlane(x0 = -assembly_pitch/2)\n",
    "r = openmc.XPlane(x0 = assembly_pitch/2)\n",
    "b = openmc.YPlane(y0 = -assembly_pitch/2)\n",
    "t = openmc.YPlane(y0 = assembly_pitch/2)\n",
    "\n",
    "for s in [l, r, b, t]:\n",
    "    s.boundary_type = 'reflective'\n",
    "\n",
    "outer = +l & -r & +b & -t\n",
    "box = openmc.Cell(region=outer, fill=lattice)"
   ]
  },
  {
   "cell_type": "code",
   "execution_count": null,
   "metadata": {},
   "outputs": [],
   "source": [
    "root = openmc.Universe(cells=[box])\n",
    "\n",
    "model.geometry = openmc.Geometry(root)"
   ]
  },
  {
   "cell_type": "code",
   "execution_count": null,
   "metadata": {},
   "outputs": [],
   "source": [
    "root.plot(width=(17*pitch, 17*pitch), origin=(0, 0, 0), \n",
    "          color_by='material', colors=colors, pixels=[1000,1000])"
   ]
  },
  {
   "cell_type": "markdown",
   "metadata": {},
   "source": [
    "To run this input file, now all we need to do is specify the initial starting source and some run settings."
   ]
  },
  {
   "cell_type": "code",
   "execution_count": null,
   "metadata": {},
   "outputs": [],
   "source": [
    "spatial_dist = openmc.stats.Box(\n",
    "    (-assembly_pitch/2, -assembly_pitch/2, 0.0),\n",
    "    (assembly_pitch/2, assembly_pitch/2, 0.0)\n",
    ")\n",
    "\n",
    "model.settings.source = openmc.IndependentSource(space=spatial_dist)\n",
    "model.settings.batches = 50\n",
    "model.settings.inactive = 10\n",
    "model.settings.particles = 1000"
   ]
  },
  {
   "cell_type": "code",
   "execution_count": null,
   "metadata": {},
   "outputs": [],
   "source": [
    "statepoint = model.run()"
   ]
  },
  {
   "cell_type": "markdown",
   "metadata": {},
   "source": [
    "## Hexagonal Lattices\n",
    "OpenMC also allows you to define hexagonal lattices. They are a little trickier, but as we'll see there are some helper methods that demystify how to assign universes.\n",
    "\n",
    "We need to set the center of the lattice, the pitch, an outer universe (which is applied to all lattice elements outside of those that are defined), and a list of universes. Let's start with the easy ones first. Note that for a 2D lattice, we only need to specify a single number for the pitch."
   ]
  },
  {
   "cell_type": "code",
   "execution_count": null,
   "metadata": {},
   "outputs": [],
   "source": [
    "hex_lat = openmc.HexLattice()\n",
    "hex_lat.center = (0., 0.)\n",
    "hex_lat.pitch = [pitch]\n",
    "hex_lat.outer = all_water"
   ]
  },
  {
   "cell_type": "markdown",
   "metadata": {},
   "source": [
    "Now we need to set the universes property on our lattice. It needs to be set to a list of lists of Universes, where each list of Universes corresponds to a ring of the lattice. The rings are ordered from outermost to innermost, and within each ring the indexing starts at the \"top\". To help visualize the proper indices, we can use the `show_indices()` helper method."
   ]
  },
  {
   "cell_type": "code",
   "execution_count": null,
   "metadata": {},
   "outputs": [],
   "source": [
    "print(hex_lat.show_indices(num_rings=3))"
   ]
  },
  {
   "cell_type": "markdown",
   "metadata": {},
   "source": [
    "Let's set up a lattice where the first element in each ring is the guide tube universe and all other elements are regular fuel pin universes. From the diagram above, we see that the outer ring has 12 elements, the middle ring has 6, and the innermost degenerate ring has a single element."
   ]
  },
  {
   "cell_type": "code",
   "execution_count": null,
   "metadata": {},
   "outputs": [],
   "source": [
    "outer_ring = [guide_tube] + [fuel_pin]*11\n",
    "middle_ring = [guide_tube] + [fuel_pin]*5\n",
    "inner_ring = [guide_tube]\n",
    "hex_lat.universes = [outer_ring, middle_ring, inner_ring]\n",
    "\n",
    "print(hex_lat)"
   ]
  },
  {
   "cell_type": "markdown",
   "metadata": {},
   "source": [
    "Now let's put our lattice inside a circular cell."
   ]
  },
  {
   "cell_type": "code",
   "execution_count": null,
   "metadata": {},
   "outputs": [],
   "source": [
    "outer_surface = openmc.ZCylinder(r=4.0)\n",
    "main_cell = openmc.Cell(fill=hex_lat, region=-outer_surface)\n",
    "root = openmc.Universe(cells=[main_cell])"
   ]
  },
  {
   "cell_type": "code",
   "execution_count": null,
   "metadata": {},
   "outputs": [],
   "source": [
    "root.plot(width=(8, 8), pixels=(300, 300),\n",
    "          color_by='material', colors=colors)"
   ]
  },
  {
   "cell_type": "markdown",
   "metadata": {},
   "source": [
    "Now let's say we want our hexagonal lattice orientated such that flat sides are parallel to the y-axis instead of the x-axis. This can be achieved by changing the orientation of the lattice from `y` to `x`:"
   ]
  },
  {
   "cell_type": "code",
   "execution_count": null,
   "metadata": {},
   "outputs": [],
   "source": [
    "hex_lat.orientation = 'x'"
   ]
  },
  {
   "cell_type": "code",
   "execution_count": null,
   "metadata": {},
   "outputs": [],
   "source": [
    "root.plot(width=(8, 8), pixels=(300, 300),\n",
    "          color_by='material', colors=colors)"
   ]
  }
 ],
 "metadata": {
  "anaconda-cloud": {},
  "kernelspec": {
   "display_name": "Python 3 (ipykernel)",
   "language": "python",
   "name": "python3"
  },
  "language_info": {
   "codemirror_mode": {
    "name": "ipython",
    "version": 3
   },
   "file_extension": ".py",
   "mimetype": "text/x-python",
   "name": "python",
   "nbconvert_exporter": "python",
   "pygments_lexer": "ipython3",
   "version": "3.11.2"
  }
 },
 "nbformat": 4,
 "nbformat_minor": 4
}
